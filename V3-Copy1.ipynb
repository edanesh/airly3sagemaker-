{
 "cells": [
  {
   "cell_type": "code",
   "execution_count": 1,
   "id": "1b7e5a0b",
   "metadata": {},
   "outputs": [],
   "source": [
    "# First, load the reticulate library and import the sagemaker Python module\n",
    "library(reticulate)\n",
    "sagemaker  <- import('sagemaker')"
   ]
  },
  {
   "cell_type": "code",
   "execution_count": 2,
   "id": "72793353",
   "metadata": {},
   "outputs": [],
   "source": [
    "# Create an Amazon Simple Storage Service (S3) bucket for your data\n",
    "# Note - The default_bucket function creates a unique Amazon S3 bucket with the following name: \"sagemaker-<aws-region-name>-<aws account number>\"\n",
    "session <- sagemaker$Session()\n",
    "bucket <- session$default_bucket()"
   ]
  },
  {
   "cell_type": "code",
   "execution_count": 3,
   "id": "565186fa",
   "metadata": {},
   "outputs": [],
   "source": [
    "# Specify the IAM role’s ARN to allow Amazon SageMaker to access the Amazon S3 bucket. You can use the same IAM role used to create this Notebook:\n",
    "role_arn <- sagemaker$get_execution_role()"
   ]
  },
  {
   "cell_type": "code",
   "execution_count": 4,
   "id": "2cc84ac8",
   "metadata": {
    "scrolled": true
   },
   "outputs": [
    {
     "name": "stderr",
     "output_type": "stream",
     "text": [
      "Warning message:\n",
      "“Your system is mis-configured: ‘/etc/localtime’ is not a symlink”\n",
      "Warning message:\n",
      "“It is strongly recommended to set envionment variable TZ to ‘Etc/UCT’ (or equivalent)”\n",
      "── \u001b[1mAttaching packages\u001b[22m ─────────────────────────────────────── tidyverse 1.3.1 ──\n",
      "\n",
      "\u001b[32m✔\u001b[39m \u001b[34mggplot2\u001b[39m 3.3.5     \u001b[32m✔\u001b[39m \u001b[34mpurrr  \u001b[39m 0.3.4\n",
      "\u001b[32m✔\u001b[39m \u001b[34mtibble \u001b[39m 3.1.6     \u001b[32m✔\u001b[39m \u001b[34mdplyr  \u001b[39m 1.0.7\n",
      "\u001b[32m✔\u001b[39m \u001b[34mtidyr  \u001b[39m 1.1.4     \u001b[32m✔\u001b[39m \u001b[34mstringr\u001b[39m 1.4.0\n",
      "\u001b[32m✔\u001b[39m \u001b[34mreadr  \u001b[39m 2.1.0     \u001b[32m✔\u001b[39m \u001b[34mforcats\u001b[39m 0.5.1\n",
      "\n",
      "── \u001b[1mConflicts\u001b[22m ────────────────────────────────────────── tidyverse_conflicts() ──\n",
      "\u001b[31m✖\u001b[39m \u001b[34mdplyr\u001b[39m::\u001b[32mfilter()\u001b[39m masks \u001b[34mstats\u001b[39m::filter()\n",
      "\u001b[31m✖\u001b[39m \u001b[34mdplyr\u001b[39m::\u001b[32mlag()\u001b[39m    masks \u001b[34mstats\u001b[39m::lag()\n",
      "\n"
     ]
    }
   ],
   "source": [
    "# loading required packages (since these are already available on sagemaker R kernel, no need to install them)\n",
    "library(tidyverse)\n",
    "library(modelr)"
   ]
  },
  {
   "cell_type": "code",
   "execution_count": null,
   "id": "6aa32502",
   "metadata": {},
   "outputs": [],
   "source": [
    "# loading airly sensor (sensor ids = 7201, 7599, 7803; instal ids = 41414, 41816, 42022) data\n",
    "# for the period 15-08-2021 to 22-11-2021 (Only NO2, T and RH signals)\n",
    "data_file <- 'data_airly.csv'\n",
    "data_airly_all <- read_csv(file=data_file)#, col_types = cols(\"d\", \"d\", \"T\", \"c\", \"d\", \"d\", \"d\"))"
   ]
  },
  {
   "cell_type": "code",
   "execution_count": 81,
   "id": "e31b04b8",
   "metadata": {},
   "outputs": [
    {
     "data": {
      "text/html": [
       "<table class=\"dataframe\">\n",
       "<caption>A tibble: 6 × 7</caption>\n",
       "<thead>\n",
       "\t<tr><th scope=col>...1</th><th scope=col>id</th><th scope=col>date</th><th scope=col>status</th><th scope=col>humidity</th><th scope=col>no2</th><th scope=col>temperature</th></tr>\n",
       "\t<tr><th scope=col>&lt;dbl&gt;</th><th scope=col>&lt;dbl&gt;</th><th scope=col>&lt;dttm&gt;</th><th scope=col>&lt;chr&gt;</th><th scope=col>&lt;dbl&gt;</th><th scope=col>&lt;dbl&gt;</th><th scope=col>&lt;dbl&gt;</th></tr>\n",
       "</thead>\n",
       "<tbody>\n",
       "\t<tr><td>0</td><td>42022</td><td>2021-08-15 00:00:00</td><td>RAW</td><td>71.82511</td><td>297.1198</td><td>24.94795</td></tr>\n",
       "\t<tr><td>1</td><td>42022</td><td>2021-08-15 00:05:00</td><td>RAW</td><td>72.20479</td><td>297.1906</td><td>24.84013</td></tr>\n",
       "\t<tr><td>2</td><td>42022</td><td>2021-08-15 00:10:00</td><td>RAW</td><td>72.43551</td><td>297.3429</td><td>24.74854</td></tr>\n",
       "\t<tr><td>3</td><td>42022</td><td>2021-08-15 00:15:00</td><td>RAW</td><td>72.64743</td><td>297.4239</td><td>24.66797</td></tr>\n",
       "\t<tr><td>4</td><td>42022</td><td>2021-08-15 00:20:00</td><td>RAW</td><td>72.76068</td><td>297.6219</td><td>24.64623</td></tr>\n",
       "\t<tr><td>5</td><td>42022</td><td>2021-08-15 00:25:00</td><td>RAW</td><td>73.05018</td><td>297.7695</td><td>24.57725</td></tr>\n",
       "</tbody>\n",
       "</table>\n"
      ],
      "text/latex": [
       "A tibble: 6 × 7\n",
       "\\begin{tabular}{lllllll}\n",
       " ...1 & id & date & status & humidity & no2 & temperature\\\\\n",
       " <dbl> & <dbl> & <dttm> & <chr> & <dbl> & <dbl> & <dbl>\\\\\n",
       "\\hline\n",
       "\t 0 & 42022 & 2021-08-15 00:00:00 & RAW & 71.82511 & 297.1198 & 24.94795\\\\\n",
       "\t 1 & 42022 & 2021-08-15 00:05:00 & RAW & 72.20479 & 297.1906 & 24.84013\\\\\n",
       "\t 2 & 42022 & 2021-08-15 00:10:00 & RAW & 72.43551 & 297.3429 & 24.74854\\\\\n",
       "\t 3 & 42022 & 2021-08-15 00:15:00 & RAW & 72.64743 & 297.4239 & 24.66797\\\\\n",
       "\t 4 & 42022 & 2021-08-15 00:20:00 & RAW & 72.76068 & 297.6219 & 24.64623\\\\\n",
       "\t 5 & 42022 & 2021-08-15 00:25:00 & RAW & 73.05018 & 297.7695 & 24.57725\\\\\n",
       "\\end{tabular}\n"
      ],
      "text/markdown": [
       "\n",
       "A tibble: 6 × 7\n",
       "\n",
       "| ...1 &lt;dbl&gt; | id &lt;dbl&gt; | date &lt;dttm&gt; | status &lt;chr&gt; | humidity &lt;dbl&gt; | no2 &lt;dbl&gt; | temperature &lt;dbl&gt; |\n",
       "|---|---|---|---|---|---|---|\n",
       "| 0 | 42022 | 2021-08-15 00:00:00 | RAW | 71.82511 | 297.1198 | 24.94795 |\n",
       "| 1 | 42022 | 2021-08-15 00:05:00 | RAW | 72.20479 | 297.1906 | 24.84013 |\n",
       "| 2 | 42022 | 2021-08-15 00:10:00 | RAW | 72.43551 | 297.3429 | 24.74854 |\n",
       "| 3 | 42022 | 2021-08-15 00:15:00 | RAW | 72.64743 | 297.4239 | 24.66797 |\n",
       "| 4 | 42022 | 2021-08-15 00:20:00 | RAW | 72.76068 | 297.6219 | 24.64623 |\n",
       "| 5 | 42022 | 2021-08-15 00:25:00 | RAW | 73.05018 | 297.7695 | 24.57725 |\n",
       "\n"
      ],
      "text/plain": [
       "  ...1 id    date                status humidity no2      temperature\n",
       "1 0    42022 2021-08-15 00:00:00 RAW    71.82511 297.1198 24.94795   \n",
       "2 1    42022 2021-08-15 00:05:00 RAW    72.20479 297.1906 24.84013   \n",
       "3 2    42022 2021-08-15 00:10:00 RAW    72.43551 297.3429 24.74854   \n",
       "4 3    42022 2021-08-15 00:15:00 RAW    72.64743 297.4239 24.66797   \n",
       "5 4    42022 2021-08-15 00:20:00 RAW    72.76068 297.6219 24.64623   \n",
       "6 5    42022 2021-08-15 00:25:00 RAW    73.05018 297.7695 24.57725   "
      ]
     },
     "metadata": {},
     "output_type": "display_data"
    }
   ],
   "source": [
    "head(data_airly_all)"
   ]
  },
  {
   "cell_type": "code",
   "execution_count": null,
   "id": "431a812e",
   "metadata": {},
   "outputs": [],
   "source": [
    "# loading coloated reference sensor (balcony analyser T200) data for the same period\n",
    "data_file <- 'data_ref-LONDON.csv'\n",
    "data_ref_all <- read_csv(file=data_file) %>% \n",
    "    mutate(Time = lubridate::force_tz(Time, \"Europe/London\")) %>%   # set time zone (for downloaded data) to pc local tzone\n",
    "    mutate(date = lubridate::with_tz(Time, \"UTC\")) # convert time zone to UTC to match airly data"
   ]
  },
  {
   "cell_type": "code",
   "execution_count": 82,
   "id": "2f5e0ddd",
   "metadata": {},
   "outputs": [
    {
     "data": {
      "text/html": [
       "<table class=\"dataframe\">\n",
       "<caption>A tibble: 6 × 5</caption>\n",
       "<thead>\n",
       "\t<tr><th scope=col>Time</th><th scope=col>NO</th><th scope=col>NO2</th><th scope=col>NOX</th><th scope=col>date</th></tr>\n",
       "\t<tr><th scope=col>&lt;dttm&gt;</th><th scope=col>&lt;dbl&gt;</th><th scope=col>&lt;dbl&gt;</th><th scope=col>&lt;dbl&gt;</th><th scope=col>&lt;dttm&gt;</th></tr>\n",
       "</thead>\n",
       "<tbody>\n",
       "\t<tr><td>2021-08-15 01:00:00</td><td>4.43</td><td>21.3</td><td>25.8</td><td>2021-08-15 00:00:00</td></tr>\n",
       "\t<tr><td>2021-08-15 01:05:00</td><td>3.14</td><td>20.8</td><td>24.0</td><td>2021-08-15 00:05:00</td></tr>\n",
       "\t<tr><td>2021-08-15 01:10:00</td><td>2.85</td><td>20.6</td><td>23.4</td><td>2021-08-15 00:10:00</td></tr>\n",
       "\t<tr><td>2021-08-15 01:15:00</td><td>3.60</td><td>20.8</td><td>24.4</td><td>2021-08-15 00:15:00</td></tr>\n",
       "\t<tr><td>2021-08-15 01:20:00</td><td>4.04</td><td>21.2</td><td>25.2</td><td>2021-08-15 00:20:00</td></tr>\n",
       "\t<tr><td>2021-08-15 01:25:00</td><td>4.53</td><td>22.0</td><td>26.5</td><td>2021-08-15 00:25:00</td></tr>\n",
       "</tbody>\n",
       "</table>\n"
      ],
      "text/latex": [
       "A tibble: 6 × 5\n",
       "\\begin{tabular}{lllll}\n",
       " Time & NO & NO2 & NOX & date\\\\\n",
       " <dttm> & <dbl> & <dbl> & <dbl> & <dttm>\\\\\n",
       "\\hline\n",
       "\t 2021-08-15 01:00:00 & 4.43 & 21.3 & 25.8 & 2021-08-15 00:00:00\\\\\n",
       "\t 2021-08-15 01:05:00 & 3.14 & 20.8 & 24.0 & 2021-08-15 00:05:00\\\\\n",
       "\t 2021-08-15 01:10:00 & 2.85 & 20.6 & 23.4 & 2021-08-15 00:10:00\\\\\n",
       "\t 2021-08-15 01:15:00 & 3.60 & 20.8 & 24.4 & 2021-08-15 00:15:00\\\\\n",
       "\t 2021-08-15 01:20:00 & 4.04 & 21.2 & 25.2 & 2021-08-15 00:20:00\\\\\n",
       "\t 2021-08-15 01:25:00 & 4.53 & 22.0 & 26.5 & 2021-08-15 00:25:00\\\\\n",
       "\\end{tabular}\n"
      ],
      "text/markdown": [
       "\n",
       "A tibble: 6 × 5\n",
       "\n",
       "| Time &lt;dttm&gt; | NO &lt;dbl&gt; | NO2 &lt;dbl&gt; | NOX &lt;dbl&gt; | date &lt;dttm&gt; |\n",
       "|---|---|---|---|---|\n",
       "| 2021-08-15 01:00:00 | 4.43 | 21.3 | 25.8 | 2021-08-15 00:00:00 |\n",
       "| 2021-08-15 01:05:00 | 3.14 | 20.8 | 24.0 | 2021-08-15 00:05:00 |\n",
       "| 2021-08-15 01:10:00 | 2.85 | 20.6 | 23.4 | 2021-08-15 00:10:00 |\n",
       "| 2021-08-15 01:15:00 | 3.60 | 20.8 | 24.4 | 2021-08-15 00:15:00 |\n",
       "| 2021-08-15 01:20:00 | 4.04 | 21.2 | 25.2 | 2021-08-15 00:20:00 |\n",
       "| 2021-08-15 01:25:00 | 4.53 | 22.0 | 26.5 | 2021-08-15 00:25:00 |\n",
       "\n"
      ],
      "text/plain": [
       "  Time                NO   NO2  NOX  date               \n",
       "1 2021-08-15 01:00:00 4.43 21.3 25.8 2021-08-15 00:00:00\n",
       "2 2021-08-15 01:05:00 3.14 20.8 24.0 2021-08-15 00:05:00\n",
       "3 2021-08-15 01:10:00 2.85 20.6 23.4 2021-08-15 00:10:00\n",
       "4 2021-08-15 01:15:00 3.60 20.8 24.4 2021-08-15 00:15:00\n",
       "5 2021-08-15 01:20:00 4.04 21.2 25.2 2021-08-15 00:20:00\n",
       "6 2021-08-15 01:25:00 4.53 22.0 26.5 2021-08-15 00:25:00"
      ]
     },
     "metadata": {},
     "output_type": "display_data"
    }
   ],
   "source": [
    "head(data_ref_all)"
   ]
  },
  {
   "cell_type": "code",
   "execution_count": 9,
   "id": "d4773da4",
   "metadata": {},
   "outputs": [],
   "source": [
    "data_airly_nested <- data_airly_all %>% \n",
    "  group_by(id) %>% \n",
    "  nest()"
   ]
  },
  {
   "cell_type": "code",
   "execution_count": 10,
   "id": "0ba32b4f",
   "metadata": {},
   "outputs": [],
   "source": [
    "f_data_id <- function(df) {\n",
    "    df %>% \n",
    "    select(date, status, no2) %>% \n",
    "    pivot_wider(names_from = status, values_from = c(no2))\n",
    "}\n",
    "data_airly_nested <- data_airly_nested %>% \n",
    "    mutate(data_id = map(data, f_data_id))"
   ]
  },
  {
   "cell_type": "code",
   "execution_count": 11,
   "id": "cdb55206",
   "metadata": {},
   "outputs": [],
   "source": [
    "f_data_id_TRH <- function(df) {\n",
    "    df %>% \n",
    "    filter(status==\"RAW\") %>% \n",
    "    select(date, temperature, humidity)\n",
    "}\n",
    "data_airly_nested <- data_airly_nested %>% \n",
    "    mutate(data_id_TRH = map(data, f_data_id_TRH))"
   ]
  },
  {
   "cell_type": "code",
   "execution_count": 12,
   "id": "b4b7e3c3",
   "metadata": {},
   "outputs": [
    {
     "name": "stderr",
     "output_type": "stream",
     "text": [
      "also installing the dependencies ‘jpeg’, ‘latticeExtra’, ‘mapproj’\n",
      "\n",
      "\n",
      "Updating HTML index of packages in '.Library'\n",
      "\n",
      "Making 'packages.html' ...\n",
      " done\n",
      "\n"
     ]
    }
   ],
   "source": [
    "# loading required packages (since these are NOT already available on sagemaker R kernel, we need to install them first)\n",
    "install.packages(\"openair\")\n",
    "# library(openair)"
   ]
  },
  {
   "cell_type": "code",
   "execution_count": 13,
   "id": "2224070f",
   "metadata": {},
   "outputs": [],
   "source": [
    "f_base <- function(df) {\n",
    "    df %>% \n",
    "    openair::timeAverage(avg.time = \"60 min\", statistic = \"min\", start.date = \"2021-08-15 00:00:00\")\n",
    "}\n",
    "# find baseline points (taking minimum of RAW over 1hr intervals)\n",
    "data_airly_nested <- data_airly_nested %>% \n",
    "    mutate(data_id_base = map(data_id, f_base))"
   ]
  },
  {
   "cell_type": "code",
   "execution_count": 14,
   "id": "393bc804",
   "metadata": {},
   "outputs": [],
   "source": [
    "f_TRH_mean <- function(df) {\n",
    "    df %>% \n",
    "    openair::timeAverage(avg.time = \"60 min\", statistic = \"mean\", start.date = \"2021-08-15 00:00:00\")\n",
    "}\n",
    "# find temperature points corresponding to baseline values (averaging over the same 1hr period)\n",
    "data_airly_nested <- data_airly_nested %>% \n",
    "    mutate(data_id_TRH_mean = map(data_id_TRH, f_TRH_mean))"
   ]
  },
  {
   "cell_type": "code",
   "execution_count": 15,
   "id": "140e5ab7",
   "metadata": {},
   "outputs": [],
   "source": [
    "f_base_train <- function(df1, df2) {\n",
    "    cbind(df1[,1:3], df2[,2:3])\n",
    "}\n",
    "data_airly_nested <- data_airly_nested %>% \n",
    "    mutate(base_train = map2(data_id_base, data_id_TRH_mean, f_base_train))"
   ]
  },
  {
   "cell_type": "code",
   "execution_count": 16,
   "id": "7ced3d4d",
   "metadata": {},
   "outputs": [],
   "source": [
    "# building a polynomial model on baseline vs T\n",
    "f_model_poly <- function(df){\n",
    "  lm(RAW ~ poly(temperature, 2), data=df %>% na.exclude())\n",
    "}\n",
    "data_airly_nested <- data_airly_nested %>% \n",
    "  mutate(model_poly = map(base_train, f_model_poly))"
   ]
  },
  {
   "cell_type": "code",
   "execution_count": 17,
   "id": "dc7df74b",
   "metadata": {},
   "outputs": [],
   "source": [
    "f_comb <- function(df1, df2) {\n",
    "    inner_join(df1, df2, by=c(\"date\"=\"date\"))\n",
    "}\n",
    "data_airly_nested <- data_airly_nested %>% \n",
    "  mutate(data_id_comb = map2(data_id, data_id_TRH, f_comb))"
   ]
  },
  {
   "cell_type": "code",
   "execution_count": 18,
   "id": "5b934b35",
   "metadata": {},
   "outputs": [],
   "source": [
    "# add predictions of the model to the train data to find new baseline values \n",
    "f_add_preds <- function(df, model) {\n",
    "    add_predictions(df, model, var = \"baseline\")\n",
    "}\n",
    "data_airly_nested <- data_airly_nested %>% \n",
    "  mutate(data_id_comb = map2(data_id_comb, model_poly, f_add_preds))"
   ]
  },
  {
   "cell_type": "code",
   "execution_count": null,
   "id": "d1518dcd",
   "metadata": {},
   "outputs": [],
   "source": [
    "data_airly_unnested  <- data_airly_nested %>% \n",
    "  select(id, data_id_comb) %>% \n",
    "  unnest(cols = c(data_id_comb))"
   ]
  },
  {
   "cell_type": "code",
   "execution_count": 19,
   "id": "1404da23",
   "metadata": {},
   "outputs": [
    {
     "data": {
      "text/html": [
       "<table class=\"dataframe\">\n",
       "<caption>A grouped_df: 6 × 9</caption>\n",
       "<thead>\n",
       "\t<tr><th scope=col>id</th><th scope=col>date</th><th scope=col>RAW</th><th scope=col>AUX</th><th scope=col>PPB</th><th scope=col>FINAL</th><th scope=col>temperature</th><th scope=col>humidity</th><th scope=col>baseline</th></tr>\n",
       "\t<tr><th scope=col>&lt;dbl&gt;</th><th scope=col>&lt;dttm&gt;</th><th scope=col>&lt;dbl&gt;</th><th scope=col>&lt;dbl&gt;</th><th scope=col>&lt;dbl&gt;</th><th scope=col>&lt;dbl&gt;</th><th scope=col>&lt;dbl&gt;</th><th scope=col>&lt;dbl&gt;</th><th scope=col>&lt;dbl&gt;</th></tr>\n",
       "</thead>\n",
       "<tbody>\n",
       "\t<tr><td>42022</td><td>2021-08-15 00:00:00</td><td>297.1198</td><td>291.0501</td><td>26.00640</td><td>47.91067</td><td>24.94795</td><td>71.82511</td><td>292.7546</td></tr>\n",
       "\t<tr><td>42022</td><td>2021-08-15 00:05:00</td><td>297.1906</td><td>290.9707</td><td>26.64045</td><td>49.09779</td><td>24.84013</td><td>72.20479</td><td>292.7909</td></tr>\n",
       "\t<tr><td>42022</td><td>2021-08-15 00:10:00</td><td>297.3429</td><td>290.9539</td><td>27.30686</td><td>50.34218</td><td>24.74854</td><td>72.43551</td><td>292.8216</td></tr>\n",
       "\t<tr><td>42022</td><td>2021-08-15 00:15:00</td><td>297.4239</td><td>290.9917</td><td>27.46796</td><td>50.65224</td><td>24.66797</td><td>72.64743</td><td>292.8484</td></tr>\n",
       "\t<tr><td>42022</td><td>2021-08-15 00:20:00</td><td>297.6219</td><td>291.0800</td><td>27.83964</td><td>51.33843</td><td>24.64623</td><td>72.76068</td><td>292.8556</td></tr>\n",
       "\t<tr><td>42022</td><td>2021-08-15 00:25:00</td><td>297.7695</td><td>291.0375</td><td>28.59472</td><td>52.74053</td><td>24.57725</td><td>73.05018</td><td>292.8785</td></tr>\n",
       "</tbody>\n",
       "</table>\n"
      ],
      "text/latex": [
       "A grouped\\_df: 6 × 9\n",
       "\\begin{tabular}{lllllllll}\n",
       " id & date & RAW & AUX & PPB & FINAL & temperature & humidity & baseline\\\\\n",
       " <dbl> & <dttm> & <dbl> & <dbl> & <dbl> & <dbl> & <dbl> & <dbl> & <dbl>\\\\\n",
       "\\hline\n",
       "\t 42022 & 2021-08-15 00:00:00 & 297.1198 & 291.0501 & 26.00640 & 47.91067 & 24.94795 & 71.82511 & 292.7546\\\\\n",
       "\t 42022 & 2021-08-15 00:05:00 & 297.1906 & 290.9707 & 26.64045 & 49.09779 & 24.84013 & 72.20479 & 292.7909\\\\\n",
       "\t 42022 & 2021-08-15 00:10:00 & 297.3429 & 290.9539 & 27.30686 & 50.34218 & 24.74854 & 72.43551 & 292.8216\\\\\n",
       "\t 42022 & 2021-08-15 00:15:00 & 297.4239 & 290.9917 & 27.46796 & 50.65224 & 24.66797 & 72.64743 & 292.8484\\\\\n",
       "\t 42022 & 2021-08-15 00:20:00 & 297.6219 & 291.0800 & 27.83964 & 51.33843 & 24.64623 & 72.76068 & 292.8556\\\\\n",
       "\t 42022 & 2021-08-15 00:25:00 & 297.7695 & 291.0375 & 28.59472 & 52.74053 & 24.57725 & 73.05018 & 292.8785\\\\\n",
       "\\end{tabular}\n"
      ],
      "text/markdown": [
       "\n",
       "A grouped_df: 6 × 9\n",
       "\n",
       "| id &lt;dbl&gt; | date &lt;dttm&gt; | RAW &lt;dbl&gt; | AUX &lt;dbl&gt; | PPB &lt;dbl&gt; | FINAL &lt;dbl&gt; | temperature &lt;dbl&gt; | humidity &lt;dbl&gt; | baseline &lt;dbl&gt; |\n",
       "|---|---|---|---|---|---|---|---|---|\n",
       "| 42022 | 2021-08-15 00:00:00 | 297.1198 | 291.0501 | 26.00640 | 47.91067 | 24.94795 | 71.82511 | 292.7546 |\n",
       "| 42022 | 2021-08-15 00:05:00 | 297.1906 | 290.9707 | 26.64045 | 49.09779 | 24.84013 | 72.20479 | 292.7909 |\n",
       "| 42022 | 2021-08-15 00:10:00 | 297.3429 | 290.9539 | 27.30686 | 50.34218 | 24.74854 | 72.43551 | 292.8216 |\n",
       "| 42022 | 2021-08-15 00:15:00 | 297.4239 | 290.9917 | 27.46796 | 50.65224 | 24.66797 | 72.64743 | 292.8484 |\n",
       "| 42022 | 2021-08-15 00:20:00 | 297.6219 | 291.0800 | 27.83964 | 51.33843 | 24.64623 | 72.76068 | 292.8556 |\n",
       "| 42022 | 2021-08-15 00:25:00 | 297.7695 | 291.0375 | 28.59472 | 52.74053 | 24.57725 | 73.05018 | 292.8785 |\n",
       "\n"
      ],
      "text/plain": [
       "  id    date                RAW      AUX      PPB      FINAL    temperature\n",
       "1 42022 2021-08-15 00:00:00 297.1198 291.0501 26.00640 47.91067 24.94795   \n",
       "2 42022 2021-08-15 00:05:00 297.1906 290.9707 26.64045 49.09779 24.84013   \n",
       "3 42022 2021-08-15 00:10:00 297.3429 290.9539 27.30686 50.34218 24.74854   \n",
       "4 42022 2021-08-15 00:15:00 297.4239 290.9917 27.46796 50.65224 24.66797   \n",
       "5 42022 2021-08-15 00:20:00 297.6219 291.0800 27.83964 51.33843 24.64623   \n",
       "6 42022 2021-08-15 00:25:00 297.7695 291.0375 28.59472 52.74053 24.57725   \n",
       "  humidity baseline\n",
       "1 71.82511 292.7546\n",
       "2 72.20479 292.7909\n",
       "3 72.43551 292.8216\n",
       "4 72.64743 292.8484\n",
       "5 72.76068 292.8556\n",
       "6 73.05018 292.8785"
      ]
     },
     "metadata": {},
     "output_type": "display_data"
    }
   ],
   "source": [
    "head(data_airly_unnested)"
   ]
  },
  {
   "cell_type": "code",
   "execution_count": 20,
   "id": "6756c93d",
   "metadata": {},
   "outputs": [
    {
     "data": {
      "text/plain": [
       "Time difference of 99 days"
      ]
     },
     "metadata": {},
     "output_type": "display_data"
    }
   ],
   "source": [
    "data_airly_unnested$date[nrow(data_airly_unnested)] - data_airly_unnested$date[1]"
   ]
  },
  {
   "cell_type": "code",
   "execution_count": 21,
   "id": "3dca74d5",
   "metadata": {},
   "outputs": [],
   "source": [
    "# split data into training; first 30 days (~30%), the rest for test (~70%)\n",
    "data_airly_train <- data_airly_unnested %>%\n",
    "  filter(date < \"2021-09-15 00-00-00\")\n",
    "\n",
    "data_airly_test <- data_airly_unnested %>%\n",
    "  filter(date >= \"2021-09-15 00-00-00\")\n",
    "\n",
    "data_ref_train <- data_ref_all %>%\n",
    "  filter(date < \"2021-09-15 00-00-00\")\n",
    "\n",
    "data_ref_test <- data_ref_all %>%\n",
    "  filter(date >= \"2021-09-15 00-00-00\")"
   ]
  },
  {
   "cell_type": "code",
   "execution_count": 22,
   "id": "6c69ca25",
   "metadata": {},
   "outputs": [],
   "source": [
    "# average data over 1hr to reduce data points for final modeling and to match reference station interval\n",
    "f_mean <- function(df) {\n",
    "  df %>% \n",
    "  openair::timeAverage(avg.time = \"60 min\", statistic = \"mean\", start.date = \"2021-08-15 00:00:00\")\n",
    "}\n",
    "data_airly_train_nested <- data_airly_train %>% \n",
    "  nest() %>% \n",
    "  mutate(data_mean = map(data, f_mean))\n",
    "\n",
    "data_ref_train_1hr <- data_ref_train %>% \n",
    "  openair::timeAverage(avg.time = \"60 min\", statistic = \"mean\", start.date = \"2021-08-15 00:00:00\")"
   ]
  },
  {
   "cell_type": "code",
   "execution_count": 23,
   "id": "d51845cd",
   "metadata": {},
   "outputs": [],
   "source": [
    "f_comb2 <- function(df) {\n",
    "  inner_join(df, data_ref_train_1hr, by=c(\"date\"=\"date\"))\n",
    "}\n",
    "data_airly_train_nested <- data_airly_train_nested %>% \n",
    "  mutate(data_comb = map(data_mean, f_comb2))"
   ]
  },
  {
   "cell_type": "code",
   "execution_count": 24,
   "id": "df402c31",
   "metadata": {},
   "outputs": [],
   "source": [
    "# rebuild train dataset by combining airly and ref values\n",
    "gas_train <- data_airly_train_nested %>% \n",
    "    unnest(data_comb) %>% \n",
    "    select(id, NO2, RAW, baseline, temperature) %>%\n",
    "    na.exclude()"
   ]
  },
  {
   "cell_type": "code",
   "execution_count": 25,
   "id": "e7386eac",
   "metadata": {},
   "outputs": [
    {
     "data": {
      "text/html": [
       "<table class=\"dataframe\">\n",
       "<caption>A grouped_df: 6 × 5</caption>\n",
       "<thead>\n",
       "\t<tr><th scope=col>id</th><th scope=col>NO2</th><th scope=col>RAW</th><th scope=col>baseline</th><th scope=col>temperature</th></tr>\n",
       "\t<tr><th scope=col>&lt;dbl&gt;</th><th scope=col>&lt;dbl&gt;</th><th scope=col>&lt;dbl&gt;</th><th scope=col>&lt;dbl&gt;</th><th scope=col>&lt;dbl&gt;</th></tr>\n",
       "</thead>\n",
       "<tbody>\n",
       "\t<tr><td>41414</td><td>39.24167</td><td>306.1810</td><td>299.0400</td><td>22.18185</td></tr>\n",
       "\t<tr><td>41414</td><td>32.82500</td><td>305.3284</td><td>299.4563</td><td>20.82333</td></tr>\n",
       "\t<tr><td>41414</td><td>36.47500</td><td>306.0587</td><td>299.6963</td><td>19.95598</td></tr>\n",
       "\t<tr><td>41414</td><td>31.46667</td><td>304.7914</td><td>299.8923</td><td>19.19452</td></tr>\n",
       "\t<tr><td>41414</td><td>27.08333</td><td>303.8894</td><td>300.0801</td><td>18.40225</td></tr>\n",
       "\t<tr><td>41414</td><td>21.84167</td><td>302.7994</td><td>300.2260</td><td>17.74062</td></tr>\n",
       "</tbody>\n",
       "</table>\n"
      ],
      "text/latex": [
       "A grouped\\_df: 6 × 5\n",
       "\\begin{tabular}{lllll}\n",
       " id & NO2 & RAW & baseline & temperature\\\\\n",
       " <dbl> & <dbl> & <dbl> & <dbl> & <dbl>\\\\\n",
       "\\hline\n",
       "\t 41414 & 39.24167 & 306.1810 & 299.0400 & 22.18185\\\\\n",
       "\t 41414 & 32.82500 & 305.3284 & 299.4563 & 20.82333\\\\\n",
       "\t 41414 & 36.47500 & 306.0587 & 299.6963 & 19.95598\\\\\n",
       "\t 41414 & 31.46667 & 304.7914 & 299.8923 & 19.19452\\\\\n",
       "\t 41414 & 27.08333 & 303.8894 & 300.0801 & 18.40225\\\\\n",
       "\t 41414 & 21.84167 & 302.7994 & 300.2260 & 17.74062\\\\\n",
       "\\end{tabular}\n"
      ],
      "text/markdown": [
       "\n",
       "A grouped_df: 6 × 5\n",
       "\n",
       "| id &lt;dbl&gt; | NO2 &lt;dbl&gt; | RAW &lt;dbl&gt; | baseline &lt;dbl&gt; | temperature &lt;dbl&gt; |\n",
       "|---|---|---|---|---|\n",
       "| 41414 | 39.24167 | 306.1810 | 299.0400 | 22.18185 |\n",
       "| 41414 | 32.82500 | 305.3284 | 299.4563 | 20.82333 |\n",
       "| 41414 | 36.47500 | 306.0587 | 299.6963 | 19.95598 |\n",
       "| 41414 | 31.46667 | 304.7914 | 299.8923 | 19.19452 |\n",
       "| 41414 | 27.08333 | 303.8894 | 300.0801 | 18.40225 |\n",
       "| 41414 | 21.84167 | 302.7994 | 300.2260 | 17.74062 |\n",
       "\n"
      ],
      "text/plain": [
       "  id    NO2      RAW      baseline temperature\n",
       "1 41414 39.24167 306.1810 299.0400 22.18185   \n",
       "2 41414 32.82500 305.3284 299.4563 20.82333   \n",
       "3 41414 36.47500 306.0587 299.6963 19.95598   \n",
       "4 41414 31.46667 304.7914 299.8923 19.19452   \n",
       "5 41414 27.08333 303.8894 300.0801 18.40225   \n",
       "6 41414 21.84167 302.7994 300.2260 17.74062   "
      ]
     },
     "metadata": {},
     "output_type": "display_data"
    }
   ],
   "source": [
    "tail(gas_train)"
   ]
  },
  {
   "cell_type": "code",
   "execution_count": 26,
   "id": "684393cf",
   "metadata": {},
   "outputs": [],
   "source": [
    "# average data over 1hr to reduce data points to match train set processing\n",
    "data_airly_test_nested <- data_airly_test %>% \n",
    "  nest() %>% \n",
    "  mutate(data_mean = map(data, f_mean))\n",
    "\n",
    "data_ref_test_1hr <- data_ref_test %>% \n",
    "  openair::timeAverage(avg.time = \"60 min\", statistic = \"mean\", start.date = \"2021-08-15 00:00:00\")"
   ]
  },
  {
   "cell_type": "code",
   "execution_count": 27,
   "id": "887f00d2",
   "metadata": {},
   "outputs": [],
   "source": [
    "f_comb3 <- function(df) {\n",
    "  inner_join(df, data_ref_test_1hr, by=c(\"date\"=\"date\"))\n",
    "}\n",
    "data_airly_test_nested <- data_airly_test_nested %>% \n",
    "  mutate(data_comb = map(data_mean, f_comb3))"
   ]
  },
  {
   "cell_type": "code",
   "execution_count": 28,
   "id": "9ac86a8f",
   "metadata": {},
   "outputs": [],
   "source": [
    "# rebuild train dataset by combining airly and ref values\n",
    "gas_test <- data_airly_test_nested %>% \n",
    "    unnest(data_comb) %>% \n",
    "    select(id, NO2, RAW, baseline, temperature) %>%\n",
    "    na.exclude()"
   ]
  },
  {
   "cell_type": "code",
   "execution_count": 29,
   "id": "73477bbe",
   "metadata": {},
   "outputs": [
    {
     "data": {
      "text/html": [
       "<table class=\"dataframe\">\n",
       "<caption>A grouped_df: 6 × 5</caption>\n",
       "<thead>\n",
       "\t<tr><th scope=col>id</th><th scope=col>NO2</th><th scope=col>RAW</th><th scope=col>baseline</th><th scope=col>temperature</th></tr>\n",
       "\t<tr><th scope=col>&lt;dbl&gt;</th><th scope=col>&lt;dbl&gt;</th><th scope=col>&lt;dbl&gt;</th><th scope=col>&lt;dbl&gt;</th><th scope=col>&lt;dbl&gt;</th></tr>\n",
       "</thead>\n",
       "<tbody>\n",
       "\t<tr><td>41414</td><td>15.93333</td><td>301.6151</td><td>301.0590</td><td>11.549618</td></tr>\n",
       "\t<tr><td>41414</td><td>13.95000</td><td>301.2534</td><td>301.0985</td><td>10.739492</td></tr>\n",
       "\t<tr><td>41414</td><td>12.63333</td><td>301.1706</td><td>301.1071</td><td>10.509275</td></tr>\n",
       "\t<tr><td>41414</td><td>12.97500</td><td>301.2316</td><td>301.1131</td><td>10.294385</td></tr>\n",
       "\t<tr><td>41414</td><td>12.29167</td><td>301.3449</td><td>301.1258</td><td> 9.645684</td></tr>\n",
       "\t<tr><td>41414</td><td>13.16667</td><td>301.2929</td><td>301.1230</td><td> 9.845522</td></tr>\n",
       "</tbody>\n",
       "</table>\n"
      ],
      "text/latex": [
       "A grouped\\_df: 6 × 5\n",
       "\\begin{tabular}{lllll}\n",
       " id & NO2 & RAW & baseline & temperature\\\\\n",
       " <dbl> & <dbl> & <dbl> & <dbl> & <dbl>\\\\\n",
       "\\hline\n",
       "\t 41414 & 15.93333 & 301.6151 & 301.0590 & 11.549618\\\\\n",
       "\t 41414 & 13.95000 & 301.2534 & 301.0985 & 10.739492\\\\\n",
       "\t 41414 & 12.63333 & 301.1706 & 301.1071 & 10.509275\\\\\n",
       "\t 41414 & 12.97500 & 301.2316 & 301.1131 & 10.294385\\\\\n",
       "\t 41414 & 12.29167 & 301.3449 & 301.1258 &  9.645684\\\\\n",
       "\t 41414 & 13.16667 & 301.2929 & 301.1230 &  9.845522\\\\\n",
       "\\end{tabular}\n"
      ],
      "text/markdown": [
       "\n",
       "A grouped_df: 6 × 5\n",
       "\n",
       "| id &lt;dbl&gt; | NO2 &lt;dbl&gt; | RAW &lt;dbl&gt; | baseline &lt;dbl&gt; | temperature &lt;dbl&gt; |\n",
       "|---|---|---|---|---|\n",
       "| 41414 | 15.93333 | 301.6151 | 301.0590 | 11.549618 |\n",
       "| 41414 | 13.95000 | 301.2534 | 301.0985 | 10.739492 |\n",
       "| 41414 | 12.63333 | 301.1706 | 301.1071 | 10.509275 |\n",
       "| 41414 | 12.97500 | 301.2316 | 301.1131 | 10.294385 |\n",
       "| 41414 | 12.29167 | 301.3449 | 301.1258 |  9.645684 |\n",
       "| 41414 | 13.16667 | 301.2929 | 301.1230 |  9.845522 |\n",
       "\n"
      ],
      "text/plain": [
       "  id    NO2      RAW      baseline temperature\n",
       "1 41414 15.93333 301.6151 301.0590 11.549618  \n",
       "2 41414 13.95000 301.2534 301.0985 10.739492  \n",
       "3 41414 12.63333 301.1706 301.1071 10.509275  \n",
       "4 41414 12.97500 301.2316 301.1131 10.294385  \n",
       "5 41414 12.29167 301.3449 301.1258  9.645684  \n",
       "6 41414 13.16667 301.2929 301.1230  9.845522  "
      ]
     },
     "metadata": {},
     "output_type": "display_data"
    }
   ],
   "source": [
    "tail(gas_test)"
   ]
  },
  {
   "cell_type": "code",
   "execution_count": 31,
   "id": "b8ff3714",
   "metadata": {},
   "outputs": [],
   "source": [
    "# function to save train and test data locally\n",
    "save_data_locally <- function(ID, TRAIN, TEST) {\n",
    "  \n",
    "  dir.create(stringr::str_glue(\"data\", ID, \"train\", .sep = \"/\"), recursive = TRUE)\n",
    "  \n",
    "  temp1 <- TRAIN %>% \n",
    "    filter(id==ID) %>% \n",
    "    unnest(data) %>% \n",
    "    ungroup() %>% \n",
    "    select(-id)\n",
    "  \n",
    "  write_csv(temp1, str_glue(\"data\", ID, \"train\", \"train.csv\", .sep = \"/\"), col_names=FALSE)\n",
    "    \n",
    "  dir.create(stringr::str_glue(\"data\", ID, \"test\", .sep = \"/\"), recursive = TRUE)\n",
    "  \n",
    "  temp2 <- TEST %>% \n",
    "    filter(id==ID) %>% \n",
    "    unnest(data) %>% \n",
    "    ungroup() %>% \n",
    "    select(-id)\n",
    "  \n",
    "  write_csv(temp2, str_glue(\"data\", ID, \"test\", \"test_plus.csv\", .sep = \"/\"), col_names=FALSE)\n",
    "  write_csv(temp2[-1], str_glue(\"data\", ID, \"test\", \"test.csv\", .sep = \"/\"), col_names=FALSE)\n",
    "}"
   ]
  },
  {
   "cell_type": "code",
   "execution_count": 32,
   "id": "e03105f6",
   "metadata": {},
   "outputs": [],
   "source": [
    "gas_train_nested <- gas_train %>% nest()\n",
    "gas_test_nested <- gas_test %>% nest()\n",
    "train_ids <- gas_train_nested %>% \n",
    "  {unique(.$id)}\n",
    "test_ids <- gas_test_nested %>% \n",
    "  {unique(.$id)}"
   ]
  },
  {
   "cell_type": "code",
   "execution_count": 33,
   "id": "6a948e4f",
   "metadata": {},
   "outputs": [
    {
     "name": "stderr",
     "output_type": "stream",
     "text": [
      "Warning message in dir.create(stringr::str_glue(\"data\", ID, \"train\", .sep = \"/\"), :\n",
      "“'data/42022/train' already exists”\n",
      "Warning message in dir.create(stringr::str_glue(\"data\", ID, \"test\", .sep = \"/\"), :\n",
      "“'data/42022/test' already exists”\n",
      "Warning message in dir.create(stringr::str_glue(\"data\", ID, \"train\", .sep = \"/\"), :\n",
      "“'data/41816/train' already exists”\n",
      "Warning message in dir.create(stringr::str_glue(\"data\", ID, \"test\", .sep = \"/\"), :\n",
      "“'data/41816/test' already exists”\n",
      "Warning message in dir.create(stringr::str_glue(\"data\", ID, \"train\", .sep = \"/\"), :\n",
      "“'data/41414/train' already exists”\n",
      "Warning message in dir.create(stringr::str_glue(\"data\", ID, \"test\", .sep = \"/\"), :\n",
      "“'data/41414/test' already exists”\n"
     ]
    }
   ],
   "source": [
    "ID = vector(mode=\"numeric\", length = 0)\n",
    "for (ID in train_ids) {\n",
    "  save_data_locally(ID, gas_train_nested, gas_test_nested)\n",
    "}"
   ]
  },
  {
   "cell_type": "code",
   "execution_count": 34,
   "id": "79a39dbb",
   "metadata": {},
   "outputs": [],
   "source": [
    "# Then, upload the csv file to the Amazon S3 default bucket into the data key:\n",
    "train_inputs = vector(mode = \"character\", length = length(train_ids))\n",
    "\n",
    "for (ID in train_ids) {\n",
    "\n",
    "    train_input = session$upload_data(path=str_glue(\"data\", ID, \"train\", \"train.csv\", .sep = \"/\"),\n",
    "                                      bucket=bucket,\n",
    "                                      key_prefix=str_glue(\"r_demo4/data\", ID, \"train\", .sep=\"/\"))\n",
    "    \n",
    "    train_inputs = c(train_inputs, train_input)\n",
    "#     print(\"Raw training data uploaded to : \", train_input)\n",
    "}"
   ]
  },
  {
   "cell_type": "code",
   "execution_count": 35,
   "id": "6a1617d1",
   "metadata": {},
   "outputs": [],
   "source": [
    "# Then, upload the csv file to the Amazon S3 default bucket into the data key:\n",
    "test_inputs = vector(mode = \"character\", length = length(test_ids))\n",
    "\n",
    "for (ID in test_ids) {\n",
    "\n",
    "    test_input = session$upload_data(path=str_glue(\"data\", ID, \"test\", \"test.csv\", .sep = \"/\"),\n",
    "                                      bucket=bucket,\n",
    "                                      key_prefix=str_glue(\"r_demo4/data\", ID, \"test\", .sep=\"/\"))\n",
    "    \n",
    "    test_inputs = c(test_inputs, test_input)\n",
    "#     print(\"Raw training data uploaded to : \", train_input)\n",
    "}"
   ]
  },
  {
   "cell_type": "code",
   "execution_count": 36,
   "id": "6dc187ab",
   "metadata": {},
   "outputs": [
    {
     "name": "stdout",
     "output_type": "stream",
     "text": [
      "Linear Container Image URL:  644912444149.dkr.ecr.eu-west-2.amazonaws.com/linear-learner:1"
     ]
    }
   ],
   "source": [
    "# Amazon SageMaker algorithms are available via a Docker container. \n",
    "# To train a linear model, specify the training containers in Amazon Elastic Container Registry (ECR) for the AWS Region. \n",
    "# We will use the latest version of the algorithm.\n",
    "container <- sagemaker$image_uris$retrieve(framework='linear-learner',\n",
    "                                          region=session$boto_region_name, \n",
    "                                          version='latest')\n",
    "cat('Linear Container Image URL: ', container)"
   ]
  },
  {
   "cell_type": "code",
   "execution_count": 38,
   "id": "4048de6a",
   "metadata": {},
   "outputs": [],
   "source": [
    "training_jobs <- vector(\"character\")\n",
    "for (ID in train_ids) {\n",
    "    # define the Amazon S3 input types for the Amazon SageMaker algorithm:\n",
    "    s3_input = str_glue('s3:/', bucket, 'r_demo4', \"data\", ID, \"train\", \"train.csv\", .sep = \"/\")\n",
    "    s3_train_input <- sagemaker$inputs$TrainingInput(s3_data=s3_input,\n",
    "                                                content_type='text/csv')\n",
    "    \n",
    "    # Model artifacts and batch output\n",
    "    s3_output <- str_glue('s3:/', bucket, 'r_demo4','output', ID, .sep = '/')\n",
    "    \n",
    "    # Estimator: define an Amazon SageMaker Estimator, which can train any supplied algorithm that has been containerized with Docker.\n",
    "    estimator <- sagemaker$estimator$Estimator(image_uri = container,\n",
    "                                           role = role_arn,\n",
    "                                           train_instance_count = 1L,\n",
    "                                           train_instance_type = 'ml.m5.4xlarge',\n",
    "                                           output_path = s3_output,\n",
    "                                           sagemaker_session = session)\n",
    "    \n",
    "    # specify the linear-learner hyperparameters for the estimator\n",
    "    estimator$set_hyperparameters(predictor_type=\"regressor\",\n",
    "                             mini_batch_size=100L)\n",
    "    \n",
    "    # create a training (aka, fitting) job name\n",
    "    job_name <- str_glue('sagemaker-r-linear', ID, format(Sys.time(), '%H-%M-%S'), .sep='-')\n",
    "    training_jobs <- c(training_jobs, job_name)\n",
    "\n",
    "    # Define the data channels for train (optional: and validation) datasets\n",
    "    input_data <- list('train'=s3_train_input)\n",
    "    \n",
    "    #! takes a few minutes...you can set wait=FALSE to bypass this but...\n",
    "    # BEWARE that you may exceed AWS limit if there are too many instances running -> set wait=TRUE to avoid issues\n",
    "    # train the estimator (aka, fit!)\n",
    "    estimator$fit(inputs=input_data, job_name=job_name, wait=TRUE)\n",
    "    \n",
    "    # create a model based on this training job\n",
    "    session$create_model_from_job(training_job_name=job_name)\n",
    "}"
   ]
  },
  {
   "cell_type": "code",
   "execution_count": 37,
   "id": "628f3382",
   "metadata": {},
   "outputs": [
    {
     "ename": "ERROR",
     "evalue": "Error in eval(expr, envir, enclos): object 'estimator' not found\n",
     "output_type": "error",
     "traceback": [
      "Error in eval(expr, envir, enclos): object 'estimator' not found\nTraceback:\n"
     ]
    }
   ],
   "source": [
    "# model <- estimator$create_model()"
   ]
  },
  {
   "cell_type": "code",
   "execution_count": 317,
   "id": "51f84d70",
   "metadata": {},
   "outputs": [
    {
     "data": {
      "text/html": [
       "'s3://sagemaker-eu-west-2-870953422121/r_demo4/output/41414/sagemaker-r-linear-41414-15-45-12/output/model.tar.gz'"
      ],
      "text/latex": [
       "'s3://sagemaker-eu-west-2-870953422121/r\\_demo4/output/41414/sagemaker-r-linear-41414-15-45-12/output/model.tar.gz'"
      ],
      "text/markdown": [
       "'s3://sagemaker-eu-west-2-870953422121/r_demo4/output/41414/sagemaker-r-linear-41414-15-45-12/output/model.tar.gz'"
      ],
      "text/plain": [
       "[1] \"s3://sagemaker-eu-west-2-870953422121/r_demo4/output/41414/sagemaker-r-linear-41414-15-45-12/output/model.tar.gz\""
      ]
     },
     "metadata": {},
     "output_type": "display_data"
    }
   ],
   "source": [
    "# model$model_data"
   ]
  },
  {
   "cell_type": "code",
   "execution_count": 202,
   "id": "a9ebda2d",
   "metadata": {},
   "outputs": [],
   "source": [
    "# pipeline <- import('sagemaker.pipeline')"
   ]
  },
  {
   "cell_type": "code",
   "execution_count": 333,
   "id": "8dd21810",
   "metadata": {},
   "outputs": [
    {
     "data": {
      "text/html": [
       "'41414-temp-best'"
      ],
      "text/latex": [
       "'41414-temp-best'"
      ],
      "text/markdown": [
       "'41414-temp-best'"
      ],
      "text/plain": [
       "[1] \"41414-temp-best\""
      ]
     },
     "metadata": {},
     "output_type": "display_data"
    }
   ],
   "source": [
    "# session$create_model(name=\"41414-temp-best\",\n",
    "#                      role=role_arn,\n",
    "#                      container_defs=model$prepare_container_def(instance_type='ml.m4.xlarge'))"
   ]
  },
  {
   "cell_type": "code",
   "execution_count": 334,
   "id": "f32b182f",
   "metadata": {},
   "outputs": [
    {
     "data": {
      "text/html": [
       "'sagemaker-r-linear-41414-15-45-12'"
      ],
      "text/latex": [
       "'sagemaker-r-linear-41414-15-45-12'"
      ],
      "text/markdown": [
       "'sagemaker-r-linear-41414-15-45-12'"
      ],
      "text/plain": [
       "sagemaker-r-linear-41414-15-45-12"
      ]
     },
     "metadata": {},
     "output_type": "display_data"
    }
   ],
   "source": [
    "# job_name"
   ]
  },
  {
   "cell_type": "code",
   "execution_count": 335,
   "id": "4ffc9ae6",
   "metadata": {},
   "outputs": [
    {
     "data": {
      "text/html": [
       "'sagemaker-r-linear-41414-15-45-12'"
      ],
      "text/latex": [
       "'sagemaker-r-linear-41414-15-45-12'"
      ],
      "text/markdown": [
       "'sagemaker-r-linear-41414-15-45-12'"
      ],
      "text/plain": [
       "[1] \"sagemaker-r-linear-41414-15-45-12\""
      ]
     },
     "metadata": {},
     "output_type": "display_data"
    }
   ],
   "source": [
    "# session$create_model_from_job(job_name)"
   ]
  },
  {
   "cell_type": "code",
   "execution_count": 326,
   "id": "c0f5c9ae",
   "metadata": {},
   "outputs": [],
   "source": [
    "# es_model = pipeline$PipelineModel(\n",
    "#     name=\"41414-temp-test\", \n",
    "#     role=role_arn, \n",
    "#     sagemaker_session=session,\n",
    "#     models=list(model))"
   ]
  },
  {
   "cell_type": "code",
   "execution_count": 332,
   "id": "0616df1e",
   "metadata": {},
   "outputs": [],
   "source": [
    "# es_model$deploy(initial_instance_count=1L, \n",
    "#                 instance_type='ml.m4.xlarge',\n",
    "#                 )"
   ]
  },
  {
   "cell_type": "code",
   "execution_count": 39,
   "id": "76a71725",
   "metadata": {},
   "outputs": [
    {
     "data": {
      "text/html": [
       "<style>\n",
       ".list-inline {list-style: none; margin:0; padding: 0}\n",
       ".list-inline>li {display: inline-block}\n",
       ".list-inline>li:not(:last-child)::after {content: \"\\00b7\"; padding: 0 .5ex}\n",
       "</style>\n",
       "<ol class=list-inline><li>'sagemaker-r-linear-42022-09-25-55'</li><li>'sagemaker-r-linear-41816-09-29-41'</li><li>'sagemaker-r-linear-41414-09-33-26'</li></ol>\n"
      ],
      "text/latex": [
       "\\begin{enumerate*}\n",
       "\\item 'sagemaker-r-linear-42022-09-25-55'\n",
       "\\item 'sagemaker-r-linear-41816-09-29-41'\n",
       "\\item 'sagemaker-r-linear-41414-09-33-26'\n",
       "\\end{enumerate*}\n"
      ],
      "text/markdown": [
       "1. 'sagemaker-r-linear-42022-09-25-55'\n",
       "2. 'sagemaker-r-linear-41816-09-29-41'\n",
       "3. 'sagemaker-r-linear-41414-09-33-26'\n",
       "\n",
       "\n"
      ],
      "text/plain": [
       "[1] \"sagemaker-r-linear-42022-09-25-55\" \"sagemaker-r-linear-41816-09-29-41\"\n",
       "[3] \"sagemaker-r-linear-41414-09-33-26\""
      ]
     },
     "metadata": {},
     "output_type": "display_data"
    }
   ],
   "source": [
    "training_jobs"
   ]
  },
  {
   "cell_type": "markdown",
   "id": "38fb1182",
   "metadata": {},
   "source": [
    "# Batch transform\n",
    "In many situations, using a deployed model for making inference is not the best option, especially when the goal is not to make online real-time inference but to generate predictions from a trained model on a large dataset. In these situations, using Batch Transform may be more efficient and appropriate."
   ]
  },
  {
   "cell_type": "code",
   "execution_count": 40,
   "id": "bd91baef",
   "metadata": {},
   "outputs": [],
   "source": [
    "for (ID in test_ids) {\n",
    "    # define s3 path for test data\n",
    "    s3_test_url <- str_glue('s3:/', bucket, 'r_demo4', 'data', ID, 'test', 'test.csv', .sep='/')\n",
    "    \n",
    "    # Model artifacts and batch output\n",
    "    s3_output <- str_glue('s3:/', bucket, 'r_demo4','output', ID, .sep = '/')\n",
    "    \n",
    "    # define a transformer\n",
    "    transformer <- estimator$transformer(instance_count=1L,\n",
    "                                        instance_type='ml.m5.4xlarge',\n",
    "                                         model_name=grep(pattern = ID, training_jobs, value = TRUE), # specify model name to use\n",
    "#                                         strategy=\"MultiRecord\",\n",
    "                                        output_path=s3_output)\n",
    "    \n",
    "    #! takes a few minutes...you can set wait=FALSE to bypass this but...\n",
    "    # BEWARE that you may exceed AWS limit if there are too many instances running -> set wait=TRUE to avoid issues\n",
    "    # do the batch transform\n",
    "    transformer$transform(s3_test_url,\n",
    "                          content_type=\"text/csv\",\n",
    "    #                       split_type=\"Line\",\n",
    "                          wait=TRUE)\n",
    "    \n",
    "    # Download the files from S3 using S3Downloader to local SageMaker instance 'batch_output' folder\n",
    "#     s3_input <- str_glue('s3:/', bucket, 'r_demo4','data', ID, \"test\", .sep = '/')\n",
    "#     s3_output <- str_glue('s3:/', bucket, 'r_demo4','output', ID, .sep = '/')\n",
    "#     sagemaker$s3$S3Downloader$download(s3_test_url,\n",
    "#                           str_glue(\"batch_input\", ID, .sep=\"/\"))\n",
    "     sagemaker$s3$S3Downloader$download(str_glue(s3_output,\"test.csv.out\",.sep = '/'),\n",
    "                          str_glue(\"batch_output\", ID, .sep=\"/\"))\n",
    "}"
   ]
  },
  {
   "cell_type": "code",
   "execution_count": 41,
   "id": "e46387e7",
   "metadata": {},
   "outputs": [
    {
     "name": "stderr",
     "output_type": "stream",
     "text": [
      "\u001b[1mRows: \u001b[22m\u001b[34m1378\u001b[39m \u001b[1mColumns: \u001b[22m\u001b[34m4\u001b[39m\n",
      "\n",
      "\u001b[36m──\u001b[39m \u001b[1mColumn specification\u001b[22m \u001b[36m────────────────────────────────────────────────────────\u001b[39m\n",
      "\u001b[1mDelimiter:\u001b[22m \",\"\n",
      "\u001b[32mdbl\u001b[39m (4): NO2, RAW, baseline, temperature\n",
      "\n",
      "\n",
      "\u001b[36mℹ\u001b[39m Use \u001b[30m\u001b[47m\u001b[30m\u001b[47m`spec()`\u001b[47m\u001b[30m\u001b[49m\u001b[39m to retrieve the full column specification for this data.\n",
      "\u001b[36mℹ\u001b[39m Specify the column types or set \u001b[30m\u001b[47m\u001b[30m\u001b[47m`show_col_types = FALSE`\u001b[47m\u001b[30m\u001b[49m\u001b[39m to quiet this message.\n",
      "\n",
      "\u001b[1mRows: \u001b[22m\u001b[34m1378\u001b[39m \u001b[1mColumns: \u001b[22m\u001b[34m1\u001b[39m\n",
      "\n",
      "\u001b[36m──\u001b[39m \u001b[1mColumn specification\u001b[22m \u001b[36m────────────────────────────────────────────────────────\u001b[39m\n",
      "\u001b[1mDelimiter:\u001b[22m \",\"\n",
      "\u001b[31mchr\u001b[39m (1): predicted_NO2\n",
      "\n",
      "\n",
      "\u001b[36mℹ\u001b[39m Use \u001b[30m\u001b[47m\u001b[30m\u001b[47m`spec()`\u001b[47m\u001b[30m\u001b[49m\u001b[39m to retrieve the full column specification for this data.\n",
      "\u001b[36mℹ\u001b[39m Specify the column types or set \u001b[30m\u001b[47m\u001b[30m\u001b[47m`show_col_types = FALSE`\u001b[47m\u001b[30m\u001b[49m\u001b[39m to quiet this message.\n",
      "\n",
      "extract_numeric() is deprecated: please use readr::parse_number() instead\n",
      "\n",
      "\u001b[1mRows: \u001b[22m\u001b[34m1378\u001b[39m \u001b[1mColumns: \u001b[22m\u001b[34m4\u001b[39m\n",
      "\n",
      "\u001b[36m──\u001b[39m \u001b[1mColumn specification\u001b[22m \u001b[36m────────────────────────────────────────────────────────\u001b[39m\n",
      "\u001b[1mDelimiter:\u001b[22m \",\"\n",
      "\u001b[32mdbl\u001b[39m (4): NO2, RAW, baseline, temperature\n",
      "\n",
      "\n",
      "\u001b[36mℹ\u001b[39m Use \u001b[30m\u001b[47m\u001b[30m\u001b[47m`spec()`\u001b[47m\u001b[30m\u001b[49m\u001b[39m to retrieve the full column specification for this data.\n",
      "\u001b[36mℹ\u001b[39m Specify the column types or set \u001b[30m\u001b[47m\u001b[30m\u001b[47m`show_col_types = FALSE`\u001b[47m\u001b[30m\u001b[49m\u001b[39m to quiet this message.\n",
      "\n",
      "\u001b[1mRows: \u001b[22m\u001b[34m1378\u001b[39m \u001b[1mColumns: \u001b[22m\u001b[34m1\u001b[39m\n",
      "\n",
      "\u001b[36m──\u001b[39m \u001b[1mColumn specification\u001b[22m \u001b[36m────────────────────────────────────────────────────────\u001b[39m\n",
      "\u001b[1mDelimiter:\u001b[22m \",\"\n",
      "\u001b[31mchr\u001b[39m (1): predicted_NO2\n",
      "\n",
      "\n",
      "\u001b[36mℹ\u001b[39m Use \u001b[30m\u001b[47m\u001b[30m\u001b[47m`spec()`\u001b[47m\u001b[30m\u001b[49m\u001b[39m to retrieve the full column specification for this data.\n",
      "\u001b[36mℹ\u001b[39m Specify the column types or set \u001b[30m\u001b[47m\u001b[30m\u001b[47m`show_col_types = FALSE`\u001b[47m\u001b[30m\u001b[49m\u001b[39m to quiet this message.\n",
      "\n",
      "extract_numeric() is deprecated: please use readr::parse_number() instead\n",
      "\n",
      "\u001b[1mRows: \u001b[22m\u001b[34m1325\u001b[39m \u001b[1mColumns: \u001b[22m\u001b[34m4\u001b[39m\n",
      "\n",
      "\u001b[36m──\u001b[39m \u001b[1mColumn specification\u001b[22m \u001b[36m────────────────────────────────────────────────────────\u001b[39m\n",
      "\u001b[1mDelimiter:\u001b[22m \",\"\n",
      "\u001b[32mdbl\u001b[39m (4): NO2, RAW, baseline, temperature\n",
      "\n",
      "\n",
      "\u001b[36mℹ\u001b[39m Use \u001b[30m\u001b[47m\u001b[30m\u001b[47m`spec()`\u001b[47m\u001b[30m\u001b[49m\u001b[39m to retrieve the full column specification for this data.\n",
      "\u001b[36mℹ\u001b[39m Specify the column types or set \u001b[30m\u001b[47m\u001b[30m\u001b[47m`show_col_types = FALSE`\u001b[47m\u001b[30m\u001b[49m\u001b[39m to quiet this message.\n",
      "\n",
      "\u001b[1mRows: \u001b[22m\u001b[34m1325\u001b[39m \u001b[1mColumns: \u001b[22m\u001b[34m1\u001b[39m\n",
      "\n",
      "\u001b[36m──\u001b[39m \u001b[1mColumn specification\u001b[22m \u001b[36m────────────────────────────────────────────────────────\u001b[39m\n",
      "\u001b[1mDelimiter:\u001b[22m \",\"\n",
      "\u001b[31mchr\u001b[39m (1): predicted_NO2\n",
      "\n",
      "\n",
      "\u001b[36mℹ\u001b[39m Use \u001b[30m\u001b[47m\u001b[30m\u001b[47m`spec()`\u001b[47m\u001b[30m\u001b[49m\u001b[39m to retrieve the full column specification for this data.\n",
      "\u001b[36mℹ\u001b[39m Specify the column types or set \u001b[30m\u001b[47m\u001b[30m\u001b[47m`show_col_types = FALSE`\u001b[47m\u001b[30m\u001b[49m\u001b[39m to quiet this message.\n",
      "\n",
      "extract_numeric() is deprecated: please use readr::parse_number() instead\n",
      "\n"
     ]
    }
   ],
   "source": [
    "predictions = vector(\"list\")\n",
    "for (ID in test_ids) {    \n",
    "    test_plus <- read_csv(file=str_glue(\"data\", ID, \"test\", \"test_plus.csv\", .sep=\"/\"),\n",
    "                     col_names=c(\"NO2\", \"RAW\", \"baseline\", \"temperature\"))\n",
    "        \n",
    "    prediction_id <- read_csv(file=str_glue(\"batch_output\", ID, \"test.csv.out\", .sep=\"/\"),\n",
    "                       col_names='predicted_NO2')\n",
    "    prediction_id$predicted_NO2 = extract_numeric(prediction_id$predicted_NO2)\n",
    "    test_prediction <- cbind(id=rep(ID, times = length(prediction_id)), prediction_id, test_plus)\n",
    "    predictions <- rbind(predictions, test_prediction)\n",
    "}"
   ]
  },
  {
   "cell_type": "code",
   "execution_count": 42,
   "id": "dcc9ff68",
   "metadata": {
    "scrolled": true
   },
   "outputs": [
    {
     "data": {
      "text/html": [
       "<table class=\"dataframe\">\n",
       "<caption>A data.frame: 6 × 6</caption>\n",
       "<thead>\n",
       "\t<tr><th></th><th scope=col>id</th><th scope=col>predicted_NO2</th><th scope=col>NO2</th><th scope=col>RAW</th><th scope=col>baseline</th><th scope=col>temperature</th></tr>\n",
       "\t<tr><th></th><th scope=col>&lt;dbl&gt;</th><th scope=col>&lt;dbl&gt;</th><th scope=col>&lt;dbl&gt;</th><th scope=col>&lt;dbl&gt;</th><th scope=col>&lt;dbl&gt;</th><th scope=col>&lt;dbl&gt;</th></tr>\n",
       "</thead>\n",
       "<tbody>\n",
       "\t<tr><th scope=row>1</th><td>42022</td><td>21.04413</td><td>20.91667</td><td>297.1858</td><td>294.7527</td><td>17.10584</td></tr>\n",
       "\t<tr><th scope=row>2</th><td>42022</td><td>18.85107</td><td>19.25000</td><td>296.6088</td><td>294.8363</td><td>16.60335</td></tr>\n",
       "\t<tr><th scope=row>3</th><td>42022</td><td>16.28021</td><td>16.95000</td><td>295.9173</td><td>294.9126</td><td>16.11310</td></tr>\n",
       "\t<tr><th scope=row>4</th><td>42022</td><td>16.14093</td><td>16.06667</td><td>295.9334</td><td>294.9767</td><td>15.67477</td></tr>\n",
       "\t<tr><th scope=row>5</th><td>42022</td><td>16.43073</td><td>16.39167</td><td>296.0547</td><td>295.0157</td><td>15.39307</td></tr>\n",
       "\t<tr><th scope=row>6</th><td>42022</td><td>17.92908</td><td>17.25000</td><td>296.4984</td><td>295.0182</td><td>15.37075</td></tr>\n",
       "</tbody>\n",
       "</table>\n"
      ],
      "text/latex": [
       "A data.frame: 6 × 6\n",
       "\\begin{tabular}{r|llllll}\n",
       "  & id & predicted\\_NO2 & NO2 & RAW & baseline & temperature\\\\\n",
       "  & <dbl> & <dbl> & <dbl> & <dbl> & <dbl> & <dbl>\\\\\n",
       "\\hline\n",
       "\t1 & 42022 & 21.04413 & 20.91667 & 297.1858 & 294.7527 & 17.10584\\\\\n",
       "\t2 & 42022 & 18.85107 & 19.25000 & 296.6088 & 294.8363 & 16.60335\\\\\n",
       "\t3 & 42022 & 16.28021 & 16.95000 & 295.9173 & 294.9126 & 16.11310\\\\\n",
       "\t4 & 42022 & 16.14093 & 16.06667 & 295.9334 & 294.9767 & 15.67477\\\\\n",
       "\t5 & 42022 & 16.43073 & 16.39167 & 296.0547 & 295.0157 & 15.39307\\\\\n",
       "\t6 & 42022 & 17.92908 & 17.25000 & 296.4984 & 295.0182 & 15.37075\\\\\n",
       "\\end{tabular}\n"
      ],
      "text/markdown": [
       "\n",
       "A data.frame: 6 × 6\n",
       "\n",
       "| <!--/--> | id &lt;dbl&gt; | predicted_NO2 &lt;dbl&gt; | NO2 &lt;dbl&gt; | RAW &lt;dbl&gt; | baseline &lt;dbl&gt; | temperature &lt;dbl&gt; |\n",
       "|---|---|---|---|---|---|---|\n",
       "| 1 | 42022 | 21.04413 | 20.91667 | 297.1858 | 294.7527 | 17.10584 |\n",
       "| 2 | 42022 | 18.85107 | 19.25000 | 296.6088 | 294.8363 | 16.60335 |\n",
       "| 3 | 42022 | 16.28021 | 16.95000 | 295.9173 | 294.9126 | 16.11310 |\n",
       "| 4 | 42022 | 16.14093 | 16.06667 | 295.9334 | 294.9767 | 15.67477 |\n",
       "| 5 | 42022 | 16.43073 | 16.39167 | 296.0547 | 295.0157 | 15.39307 |\n",
       "| 6 | 42022 | 17.92908 | 17.25000 | 296.4984 | 295.0182 | 15.37075 |\n",
       "\n"
      ],
      "text/plain": [
       "  id    predicted_NO2 NO2      RAW      baseline temperature\n",
       "1 42022 21.04413      20.91667 297.1858 294.7527 17.10584   \n",
       "2 42022 18.85107      19.25000 296.6088 294.8363 16.60335   \n",
       "3 42022 16.28021      16.95000 295.9173 294.9126 16.11310   \n",
       "4 42022 16.14093      16.06667 295.9334 294.9767 15.67477   \n",
       "5 42022 16.43073      16.39167 296.0547 295.0157 15.39307   \n",
       "6 42022 17.92908      17.25000 296.4984 295.0182 15.37075   "
      ]
     },
     "metadata": {},
     "output_type": "display_data"
    }
   ],
   "source": [
    "head(predictions)"
   ]
  },
  {
   "cell_type": "code",
   "execution_count": 43,
   "id": "98052fd8",
   "metadata": {},
   "outputs": [],
   "source": [
    "# define a function to calculate RMSE\n",
    "rmse <- function(df){\n",
    "    temp <- sqrt(mean((df$NO2-df$predicted_NO2)^2))\n",
    "    temp <- round(temp, digits = 2)\n",
    "    return(temp)\n",
    "}"
   ]
  },
  {
   "cell_type": "code",
   "execution_count": 44,
   "id": "bc670de7",
   "metadata": {},
   "outputs": [],
   "source": [
    "# calculate RMSE\n",
    "test_rmse <- predictions %>% \n",
    "  group_by(id) %>% \n",
    "  group_modify(~data.frame(rmse(.x)))\n",
    "# cat('RMSE for Batch Transform: ', round(gas_rmse, digits=2))"
   ]
  },
  {
   "cell_type": "code",
   "execution_count": 45,
   "id": "e515a1f2",
   "metadata": {},
   "outputs": [
    {
     "data": {
      "text/html": [
       "<table class=\"dataframe\">\n",
       "<caption>A grouped_df: 3 × 2</caption>\n",
       "<thead>\n",
       "\t<tr><th scope=col>id</th><th scope=col>rmse..x.</th></tr>\n",
       "\t<tr><th scope=col>&lt;dbl&gt;</th><th scope=col>&lt;dbl&gt;</th></tr>\n",
       "</thead>\n",
       "<tbody>\n",
       "\t<tr><td>41414</td><td>2.87</td></tr>\n",
       "\t<tr><td>41816</td><td>3.31</td></tr>\n",
       "\t<tr><td>42022</td><td>2.55</td></tr>\n",
       "</tbody>\n",
       "</table>\n"
      ],
      "text/latex": [
       "A grouped\\_df: 3 × 2\n",
       "\\begin{tabular}{ll}\n",
       " id & rmse..x.\\\\\n",
       " <dbl> & <dbl>\\\\\n",
       "\\hline\n",
       "\t 41414 & 2.87\\\\\n",
       "\t 41816 & 3.31\\\\\n",
       "\t 42022 & 2.55\\\\\n",
       "\\end{tabular}\n"
      ],
      "text/markdown": [
       "\n",
       "A grouped_df: 3 × 2\n",
       "\n",
       "| id &lt;dbl&gt; | rmse..x. &lt;dbl&gt; |\n",
       "|---|---|\n",
       "| 41414 | 2.87 |\n",
       "| 41816 | 3.31 |\n",
       "| 42022 | 2.55 |\n",
       "\n"
      ],
      "text/plain": [
       "  id    rmse..x.\n",
       "1 41414 2.87    \n",
       "2 41816 3.31    \n",
       "3 42022 2.55    "
      ]
     },
     "metadata": {},
     "output_type": "display_data"
    }
   ],
   "source": [
    "test_rmse"
   ]
  },
  {
   "cell_type": "code",
   "execution_count": 106,
   "id": "de4ddfa7",
   "metadata": {},
   "outputs": [
    {
     "data": {
      "image/png": "[encoded data removed]",
      "text/plain": [
       "plot without title"
      ]
     },
     "metadata": {
      "image/png": {
       "height": 420,
       "width": 420
      }
     },
     "output_type": "display_data"
    }
   ],
   "source": [
    "predictions %>% \n",
    "    ggplot(aes(x=predicted_NO2, y=NO2)) +\n",
    "    geom_point(alpha=0.2) +\n",
    "    geom_abline(slope=1, intercept=0, col=\"red\") +\n",
    "    facet_wrap(~id) +\n",
    "    coord_fixed()"
   ]
  },
  {
   "cell_type": "markdown",
   "id": "71ac113a",
   "metadata": {},
   "source": [
    "# Deployed model\n",
    "Deploying the model as as endpoint is suitable for cases where you need to make online inference. Amazon SageMaker lets you deploy your model by providing an endpoint that consumers can invoke by a secure and simple API call using an HTTPS request."
   ]
  },
  {
   "cell_type": "code",
   "execution_count": 48,
   "id": "7aaf953f",
   "metadata": {},
   "outputs": [],
   "source": [
    "boto3_r <- import('boto3')\n",
    "sm <- boto3_r$client('sagemaker')\n",
    "s3_client = boto3_r$client('s3')"
   ]
  },
  {
   "cell_type": "code",
   "execution_count": 194,
   "id": "03564aca",
   "metadata": {},
   "outputs": [],
   "source": [
    "# response=sm$describe_training_job(TrainingJobName=job_name)"
   ]
  },
  {
   "cell_type": "code",
   "execution_count": 195,
   "id": "94ef8688",
   "metadata": {},
   "outputs": [
    {
     "data": {
      "text/plain": [
       "$TrainingJobName\n",
       "[1] \"sagemaker-r-linear-41414-12-09-22\"\n",
       "\n",
       "$TrainingJobArn\n",
       "[1] \"arn:aws:sagemaker:eu-west-2:870953422121:training-job/sagemaker-r-linear-41414-12-09-22\"\n",
       "\n",
       "$ModelArtifacts\n",
       "$ModelArtifacts$S3ModelArtifacts\n",
       "[1] \"s3://sagemaker-eu-west-2-870953422121/r_demo4/output/41414/sagemaker-r-linear-41414-12-09-22/output/model.tar.gz\"\n",
       "\n",
       "\n",
       "$TrainingJobStatus\n",
       "[1] \"Completed\"\n",
       "\n",
       "$SecondaryStatus\n",
       "[1] \"Completed\"\n",
       "\n",
       "$HyperParameters\n",
       "$HyperParameters$mini_batch_size\n",
       "[1] \"100\"\n",
       "\n",
       "$HyperParameters$predictor_type\n",
       "[1] \"regressor\"\n",
       "\n",
       "\n",
       "$AlgorithmSpecification\n",
       "$AlgorithmSpecification$TrainingImage\n",
       "[1] \"644912444149.dkr.ecr.eu-west-2.amazonaws.com/linear-learner:1\"\n",
       "\n",
       "$AlgorithmSpecification$TrainingInputMode\n",
       "[1] \"File\"\n",
       "\n",
       "$AlgorithmSpecification$MetricDefinitions\n",
       "$AlgorithmSpecification$MetricDefinitions[[1]]\n",
       "$AlgorithmSpecification$MetricDefinitions[[1]]$Name\n",
       "[1] \"train:progress\"\n",
       "\n",
       "$AlgorithmSpecification$MetricDefinitions[[1]]$Regex\n",
       "[1] \"#progress_metric: host=\\\\S+, completed (\\\\S+) %\"\n",
       "\n",
       "\n",
       "$AlgorithmSpecification$MetricDefinitions[[2]]\n",
       "$AlgorithmSpecification$MetricDefinitions[[2]]$Name\n",
       "[1] \"validation:mae\"\n",
       "\n",
       "$AlgorithmSpecification$MetricDefinitions[[2]]$Regex\n",
       "[1] \"#quality_metric: host=\\\\S+, validation mae <loss>=(\\\\S+)\"\n",
       "\n",
       "\n",
       "$AlgorithmSpecification$MetricDefinitions[[3]]\n",
       "$AlgorithmSpecification$MetricDefinitions[[3]]$Name\n",
       "[1] \"train:objective_loss\"\n",
       "\n",
       "$AlgorithmSpecification$MetricDefinitions[[3]]$Regex\n",
       "[1] \"#quality_metric: host=\\\\S+, epoch=\\\\S+, train \\\\S+_objective <loss>=(\\\\S+)\"\n",
       "\n",
       "\n",
       "$AlgorithmSpecification$MetricDefinitions[[4]]\n",
       "$AlgorithmSpecification$MetricDefinitions[[4]]$Name\n",
       "[1] \"test:objective_loss\"\n",
       "\n",
       "$AlgorithmSpecification$MetricDefinitions[[4]]$Regex\n",
       "[1] \"#quality_metric: host=\\\\S+, test \\\\S+_objective <loss>=(\\\\S+)\"\n",
       "\n",
       "\n",
       "$AlgorithmSpecification$MetricDefinitions[[5]]\n",
       "$AlgorithmSpecification$MetricDefinitions[[5]]$Name\n",
       "[1] \"test:mse\"\n",
       "\n",
       "$AlgorithmSpecification$MetricDefinitions[[5]]$Regex\n",
       "[1] \"#quality_metric: host=\\\\S+, test mse <loss>=(\\\\S+)\"\n",
       "\n",
       "\n",
       "$AlgorithmSpecification$MetricDefinitions[[6]]\n",
       "$AlgorithmSpecification$MetricDefinitions[[6]]$Name\n",
       "[1] \"validation:objective_loss\"\n",
       "\n",
       "$AlgorithmSpecification$MetricDefinitions[[6]]$Regex\n",
       "[1] \"#quality_metric: host=\\\\S+, epoch=\\\\S+, validation \\\\S+_objective <loss>=(\\\\S+)\"\n",
       "\n",
       "\n",
       "$AlgorithmSpecification$MetricDefinitions[[7]]\n",
       "$AlgorithmSpecification$MetricDefinitions[[7]]$Name\n",
       "[1] \"validation:objective_loss:final\"\n",
       "\n",
       "$AlgorithmSpecification$MetricDefinitions[[7]]$Regex\n",
       "[1] \"#quality_metric: host=\\\\S+, validation \\\\S+_objective <loss>=(\\\\S+)\"\n",
       "\n",
       "\n",
       "$AlgorithmSpecification$MetricDefinitions[[8]]\n",
       "$AlgorithmSpecification$MetricDefinitions[[8]]$Name\n",
       "[1] \"validation:rmse\"\n",
       "\n",
       "$AlgorithmSpecification$MetricDefinitions[[8]]$Regex\n",
       "[1] \"#quality_metric: host=\\\\S+, validation rmse <loss>=(\\\\S+)\"\n",
       "\n",
       "\n",
       "$AlgorithmSpecification$MetricDefinitions[[9]]\n",
       "$AlgorithmSpecification$MetricDefinitions[[9]]$Name\n",
       "[1] \"test:absolute_loss\"\n",
       "\n",
       "$AlgorithmSpecification$MetricDefinitions[[9]]$Regex\n",
       "[1] \"#quality_metric: host=\\\\S+, test absolute_loss <loss>=(\\\\S+)\"\n",
       "\n",
       "\n",
       "$AlgorithmSpecification$MetricDefinitions[[10]]\n",
       "$AlgorithmSpecification$MetricDefinitions[[10]]$Name\n",
       "[1] \"validation:mse\"\n",
       "\n",
       "$AlgorithmSpecification$MetricDefinitions[[10]]$Regex\n",
       "[1] \"#quality_metric: host=\\\\S+, validation mse <loss>=(\\\\S+)\"\n",
       "\n",
       "\n",
       "$AlgorithmSpecification$MetricDefinitions[[11]]\n",
       "$AlgorithmSpecification$MetricDefinitions[[11]]$Name\n",
       "[1] \"train:mse\"\n",
       "\n",
       "$AlgorithmSpecification$MetricDefinitions[[11]]$Regex\n",
       "[1] \"#quality_metric: host=\\\\S+, train mse <loss>=(\\\\S+)\"\n",
       "\n",
       "\n",
       "$AlgorithmSpecification$MetricDefinitions[[12]]\n",
       "$AlgorithmSpecification$MetricDefinitions[[12]]$Name\n",
       "[1] \"train:absolute_loss\"\n",
       "\n",
       "$AlgorithmSpecification$MetricDefinitions[[12]]$Regex\n",
       "[1] \"#quality_metric: host=\\\\S+, train absolute_loss <loss>=(\\\\S+)\"\n",
       "\n",
       "\n",
       "$AlgorithmSpecification$MetricDefinitions[[13]]\n",
       "$AlgorithmSpecification$MetricDefinitions[[13]]$Name\n",
       "[1] \"train:objective_loss:final\"\n",
       "\n",
       "$AlgorithmSpecification$MetricDefinitions[[13]]$Regex\n",
       "[1] \"#quality_metric: host=\\\\S+, train \\\\S+_objective <loss>=(\\\\S+)\"\n",
       "\n",
       "\n",
       "$AlgorithmSpecification$MetricDefinitions[[14]]\n",
       "$AlgorithmSpecification$MetricDefinitions[[14]]$Name\n",
       "[1] \"validation:r2\"\n",
       "\n",
       "$AlgorithmSpecification$MetricDefinitions[[14]]$Regex\n",
       "[1] \"#quality_metric: host=\\\\S+, validation r2 <loss>=(\\\\S+)\"\n",
       "\n",
       "\n",
       "$AlgorithmSpecification$MetricDefinitions[[15]]\n",
       "$AlgorithmSpecification$MetricDefinitions[[15]]$Name\n",
       "[1] \"train:throughput\"\n",
       "\n",
       "$AlgorithmSpecification$MetricDefinitions[[15]]$Regex\n",
       "[1] \"#throughput_metric: host=\\\\S+, train throughput=(\\\\S+) records/second\"\n",
       "\n",
       "\n",
       "$AlgorithmSpecification$MetricDefinitions[[16]]\n",
       "$AlgorithmSpecification$MetricDefinitions[[16]]$Name\n",
       "[1] \"validation:absolute_loss\"\n",
       "\n",
       "$AlgorithmSpecification$MetricDefinitions[[16]]$Regex\n",
       "[1] \"#quality_metric: host=\\\\S+, validation absolute_loss <loss>=(\\\\S+)\"\n",
       "\n",
       "\n",
       "\n",
       "$AlgorithmSpecification$EnableSageMakerMetricsTimeSeries\n",
       "[1] FALSE\n",
       "\n",
       "\n",
       "$RoleArn\n",
       "[1] \"arn:aws:iam::870953422121:role/service-role/AmazonSageMaker-ExecutionRole-20211021T162608\"\n",
       "\n",
       "$InputDataConfig\n",
       "$InputDataConfig[[1]]\n",
       "$InputDataConfig[[1]]$ChannelName\n",
       "[1] \"train\"\n",
       "\n",
       "$InputDataConfig[[1]]$DataSource\n",
       "$InputDataConfig[[1]]$DataSource$S3DataSource\n",
       "$InputDataConfig[[1]]$DataSource$S3DataSource$S3DataType\n",
       "[1] \"S3Prefix\"\n",
       "\n",
       "$InputDataConfig[[1]]$DataSource$S3DataSource$S3Uri\n",
       "[1] \"s3://sagemaker-eu-west-2-870953422121/r_demo4/data/41414/train/train.csv\"\n",
       "\n",
       "$InputDataConfig[[1]]$DataSource$S3DataSource$S3DataDistributionType\n",
       "[1] \"FullyReplicated\"\n",
       "\n",
       "\n",
       "\n",
       "$InputDataConfig[[1]]$ContentType\n",
       "[1] \"text/csv\"\n",
       "\n",
       "$InputDataConfig[[1]]$CompressionType\n",
       "[1] \"None\"\n",
       "\n",
       "$InputDataConfig[[1]]$RecordWrapperType\n",
       "[1] \"None\"\n",
       "\n",
       "\n",
       "\n",
       "$OutputDataConfig\n",
       "$OutputDataConfig$KmsKeyId\n",
       "[1] \"\"\n",
       "\n",
       "$OutputDataConfig$S3OutputPath\n",
       "[1] \"s3://sagemaker-eu-west-2-870953422121/r_demo4/output/41414\"\n",
       "\n",
       "\n",
       "$ResourceConfig\n",
       "$ResourceConfig$InstanceType\n",
       "[1] \"ml.m5.4xlarge\"\n",
       "\n",
       "$ResourceConfig$InstanceCount\n",
       "[1] 1\n",
       "\n",
       "$ResourceConfig$VolumeSizeInGB\n",
       "[1] 30\n",
       "\n",
       "\n",
       "$StoppingCondition\n",
       "$StoppingCondition$MaxRuntimeInSeconds\n",
       "[1] 86400\n",
       "\n",
       "\n",
       "$CreationTime\n",
       "2021-11-24 12:09:23.009000+00:00\n",
       "\n",
       "$TrainingStartTime\n",
       "2021-11-24 12:11:43.310000+00:00\n",
       "\n",
       "$TrainingEndTime\n",
       "2021-11-24 12:12:41.557000+00:00\n",
       "\n",
       "$LastModifiedTime\n",
       "2021-11-24 12:13:28.685000+00:00\n",
       "\n",
       "$SecondaryStatusTransitions\n",
       "$SecondaryStatusTransitions[[1]]\n",
       "$SecondaryStatusTransitions[[1]]$Status\n",
       "[1] \"Starting\"\n",
       "\n",
       "$SecondaryStatusTransitions[[1]]$StartTime\n",
       "2021-11-24 12:09:23.009000+00:00\n",
       "\n",
       "$SecondaryStatusTransitions[[1]]$EndTime\n",
       "2021-11-24 12:11:43.310000+00:00\n",
       "\n",
       "$SecondaryStatusTransitions[[1]]$StatusMessage\n",
       "[1] \"Preparing the instances for training\"\n",
       "\n",
       "\n",
       "$SecondaryStatusTransitions[[2]]\n",
       "$SecondaryStatusTransitions[[2]]$Status\n",
       "[1] \"Downloading\"\n",
       "\n",
       "$SecondaryStatusTransitions[[2]]$StartTime\n",
       "2021-11-24 12:11:43.310000+00:00\n",
       "\n",
       "$SecondaryStatusTransitions[[2]]$EndTime\n",
       "2021-11-24 12:12:09.120000+00:00\n",
       "\n",
       "$SecondaryStatusTransitions[[2]]$StatusMessage\n",
       "[1] \"Downloading input data\"\n",
       "\n",
       "\n",
       "$SecondaryStatusTransitions[[3]]\n",
       "$SecondaryStatusTransitions[[3]]$Status\n",
       "[1] \"Training\"\n",
       "\n",
       "$SecondaryStatusTransitions[[3]]$StartTime\n",
       "2021-11-24 12:12:09.120000+00:00\n",
       "\n",
       "$SecondaryStatusTransitions[[3]]$EndTime\n",
       "2021-11-24 12:12:33.441000+00:00\n",
       "\n",
       "$SecondaryStatusTransitions[[3]]$StatusMessage\n",
       "[1] \"Training image download completed. Training in progress.\"\n",
       "\n",
       "\n",
       "$SecondaryStatusTransitions[[4]]\n",
       "$SecondaryStatusTransitions[[4]]$Status\n",
       "[1] \"Uploading\"\n",
       "\n",
       "$SecondaryStatusTransitions[[4]]$StartTime\n",
       "2021-11-24 12:12:33.441000+00:00\n",
       "\n",
       "$SecondaryStatusTransitions[[4]]$EndTime\n",
       "2021-11-24 12:12:41.557000+00:00\n",
       "\n",
       "$SecondaryStatusTransitions[[4]]$StatusMessage\n",
       "[1] \"Uploading generated training model\"\n",
       "\n",
       "\n",
       "$SecondaryStatusTransitions[[5]]\n",
       "$SecondaryStatusTransitions[[5]]$Status\n",
       "[1] \"Completed\"\n",
       "\n",
       "$SecondaryStatusTransitions[[5]]$StartTime\n",
       "2021-11-24 12:12:41.557000+00:00\n",
       "\n",
       "$SecondaryStatusTransitions[[5]]$EndTime\n",
       "2021-11-24 12:12:41.557000+00:00\n",
       "\n",
       "$SecondaryStatusTransitions[[5]]$StatusMessage\n",
       "[1] \"Training job completed\"\n",
       "\n",
       "\n",
       "\n",
       "$FinalMetricDataList\n",
       "$FinalMetricDataList[[1]]\n",
       "$FinalMetricDataList[[1]]$MetricName\n",
       "[1] \"train:progress\"\n",
       "\n",
       "$FinalMetricDataList[[1]]$Value\n",
       "[1] 100\n",
       "\n",
       "$FinalMetricDataList[[1]]$Timestamp\n",
       "2021-11-24 12:12:28+00:00\n",
       "\n",
       "\n",
       "$FinalMetricDataList[[2]]\n",
       "$FinalMetricDataList[[2]]$MetricName\n",
       "[1] \"train:objective_loss\"\n",
       "\n",
       "$FinalMetricDataList[[2]]$Value\n",
       "[1] 0.5819972\n",
       "\n",
       "$FinalMetricDataList[[2]]$Timestamp\n",
       "2021-11-24 12:12:28+00:00\n",
       "\n",
       "\n",
       "$FinalMetricDataList[[3]]\n",
       "$FinalMetricDataList[[3]]$MetricName\n",
       "[1] \"train:mse\"\n",
       "\n",
       "$FinalMetricDataList[[3]]$Value\n",
       "[1] 14.82003\n",
       "\n",
       "$FinalMetricDataList[[3]]$Timestamp\n",
       "2021-11-24 12:12:28+00:00\n",
       "\n",
       "\n",
       "$FinalMetricDataList[[4]]\n",
       "$FinalMetricDataList[[4]]$MetricName\n",
       "[1] \"train:absolute_loss\"\n",
       "\n",
       "$FinalMetricDataList[[4]]$Value\n",
       "[1] 2.793615\n",
       "\n",
       "$FinalMetricDataList[[4]]$Timestamp\n",
       "2021-11-24 12:12:28+00:00\n",
       "\n",
       "\n",
       "$FinalMetricDataList[[5]]\n",
       "$FinalMetricDataList[[5]]$MetricName\n",
       "[1] \"train:objective_loss:final\"\n",
       "\n",
       "$FinalMetricDataList[[5]]$Value\n",
       "[1] 14.82003\n",
       "\n",
       "$FinalMetricDataList[[5]]$Timestamp\n",
       "2021-11-24 12:12:28+00:00\n",
       "\n",
       "\n",
       "$FinalMetricDataList[[6]]\n",
       "$FinalMetricDataList[[6]]$MetricName\n",
       "[1] \"train:throughput\"\n",
       "\n",
       "$FinalMetricDataList[[6]]$Value\n",
       "[1] 5055.257\n",
       "\n",
       "$FinalMetricDataList[[6]]$Timestamp\n",
       "2021-11-24 12:12:28+00:00\n",
       "\n",
       "\n",
       "\n",
       "$EnableNetworkIsolation\n",
       "[1] FALSE\n",
       "\n",
       "$EnableInterContainerTrafficEncryption\n",
       "[1] FALSE\n",
       "\n",
       "$EnableManagedSpotTraining\n",
       "[1] FALSE\n",
       "\n",
       "$TrainingTimeInSeconds\n",
       "[1] 58\n",
       "\n",
       "$BillableTimeInSeconds\n",
       "[1] 58\n",
       "\n",
       "$ProfilerConfig\n",
       "$ProfilerConfig$S3OutputPath\n",
       "[1] \"s3://sagemaker-eu-west-2-870953422121/r_demo4/output/41414\"\n",
       "\n",
       "$ProfilerConfig$ProfilingIntervalInMilliseconds\n",
       "[1] 500\n",
       "\n",
       "\n",
       "$ProfilerRuleConfigurations\n",
       "$ProfilerRuleConfigurations[[1]]\n",
       "$ProfilerRuleConfigurations[[1]]$RuleConfigurationName\n",
       "[1] \"ProfilerReport-1637755762\"\n",
       "\n",
       "$ProfilerRuleConfigurations[[1]]$RuleEvaluatorImage\n",
       "[1] \"250201462417.dkr.ecr.eu-west-2.amazonaws.com/sagemaker-debugger-rules:latest\"\n",
       "\n",
       "$ProfilerRuleConfigurations[[1]]$VolumeSizeInGB\n",
       "[1] 0\n",
       "\n",
       "$ProfilerRuleConfigurations[[1]]$RuleParameters\n",
       "$ProfilerRuleConfigurations[[1]]$RuleParameters$rule_to_invoke\n",
       "[1] \"ProfilerReport\"\n",
       "\n",
       "\n",
       "\n",
       "\n",
       "$ProfilerRuleEvaluationStatuses\n",
       "$ProfilerRuleEvaluationStatuses[[1]]\n",
       "$ProfilerRuleEvaluationStatuses[[1]]$RuleConfigurationName\n",
       "[1] \"ProfilerReport-1637755762\"\n",
       "\n",
       "$ProfilerRuleEvaluationStatuses[[1]]$RuleEvaluationJobArn\n",
       "[1] \"arn:aws:sagemaker:eu-west-2:870953422121:processing-job/sagemaker-r-linear-41414-1-profilerreport-1637755762-36bcaaa1\"\n",
       "\n",
       "$ProfilerRuleEvaluationStatuses[[1]]$RuleEvaluationStatus\n",
       "[1] \"NoIssuesFound\"\n",
       "\n",
       "$ProfilerRuleEvaluationStatuses[[1]]$LastModifiedTime\n",
       "2021-11-24 12:13:28.671000+00:00\n",
       "\n",
       "\n",
       "\n",
       "$ProfilingStatus\n",
       "[1] \"Enabled\"\n",
       "\n",
       "$ResponseMetadata\n",
       "$ResponseMetadata$RequestId\n",
       "[1] \"41e76061-75ad-4b03-be23-a8278d459a20\"\n",
       "\n",
       "$ResponseMetadata$HTTPStatusCode\n",
       "[1] 200\n",
       "\n",
       "$ResponseMetadata$HTTPHeaders\n",
       "$ResponseMetadata$HTTPHeaders$`x-amzn-requestid`\n",
       "[1] \"41e76061-75ad-4b03-be23-a8278d459a20\"\n",
       "\n",
       "$ResponseMetadata$HTTPHeaders$`content-type`\n",
       "[1] \"application/x-amz-json-1.1\"\n",
       "\n",
       "$ResponseMetadata$HTTPHeaders$`content-length`\n",
       "[1] \"5415\"\n",
       "\n",
       "$ResponseMetadata$HTTPHeaders$date\n",
       "[1] \"Wed, 24 Nov 2021 13:14:54 GMT\"\n",
       "\n",
       "\n",
       "$ResponseMetadata$RetryAttempts\n",
       "[1] 0\n",
       "\n"
      ]
     },
     "metadata": {},
     "output_type": "display_data"
    }
   ],
   "source": [
    "# response"
   ]
  },
  {
   "cell_type": "code",
   "execution_count": 49,
   "id": "8e4f847c",
   "metadata": {},
   "outputs": [],
   "source": [
    "for (job_name in training_jobs) {\n",
    "    response = sm$describe_training_job(TrainingJobName=job_name)\n",
    "    url = response$ModelArtifacts$S3ModelArtifacts\n",
    "    id = parse_number(str_extract(url, \"/\\\\d+/\"))\n",
    "    sp = str_split(url, as.character(id))\n",
    "    pre_plus = sp[[1]][1]; pre = str_split(pre_plus, \"s3://\")[[1]][2]\n",
    "    mid = sp[[1]][2]; \n",
    "    pos = sp[[1]][3]\n",
    "    # make a copy of the model artifacts from the original output of the training job to the place in\n",
    "    # s3 where the multi model endpoint will dynamically load individual models\n",
    "    s3_client$copy_object(Bucket=bucket, \n",
    "                          CopySource=str_c(pre, id, mid, id, pos),\n",
    "                          Key=str_glue(\"r_demo4\", \"output\", \"multi-model\", str_c(id, \"_model.tar.gz\"), .sep=\"/\"))\n",
    "}"
   ]
  },
  {
   "cell_type": "code",
   "execution_count": 198,
   "id": "b5cd114d",
   "metadata": {},
   "outputs": [
    {
     "data": {
      "text/html": [
       "'sagemaker-eu-west-2-870953422121'"
      ],
      "text/latex": [
       "'sagemaker-eu-west-2-870953422121'"
      ],
      "text/markdown": [
       "'sagemaker-eu-west-2-870953422121'"
      ],
      "text/plain": [
       "[1] \"sagemaker-eu-west-2-870953422121\""
      ]
     },
     "metadata": {},
     "output_type": "display_data"
    }
   ],
   "source": [
    "# bucket"
   ]
  },
  {
   "cell_type": "code",
   "execution_count": 50,
   "id": "926230ec",
   "metadata": {},
   "outputs": [],
   "source": [
    "multidatamodel <- import('sagemaker.multidatamodel')"
   ]
  },
  {
   "cell_type": "code",
   "execution_count": 51,
   "id": "e8bb4059",
   "metadata": {},
   "outputs": [],
   "source": [
    "model_url  = str_glue(\"s3:/\", bucket, \"r_demo4/output/multi-model\", .sep=\"/\")\n",
    "\n",
    "ll_multi_model = multidatamodel$MultiDataModel(\n",
    "        name=\"model\",\n",
    "        model_data_prefix= model_url,\n",
    "        image_uri=container,\n",
    "        role=role_arn,\n",
    "        sagemaker_session=session\n",
    "    )"
   ]
  },
  {
   "cell_type": "code",
   "execution_count": 201,
   "id": "44490490",
   "metadata": {},
   "outputs": [
    {
     "data": {
      "text/plain": [
       "<sagemaker.multidatamodel.MultiDataModel>"
      ]
     },
     "metadata": {},
     "output_type": "display_data"
    }
   ],
   "source": [
    "# ll_multi_model"
   ]
  },
  {
   "cell_type": "code",
   "execution_count": 52,
   "id": "6d0182a8",
   "metadata": {},
   "outputs": [],
   "source": [
    "pipeline <- import('sagemaker.pipeline')"
   ]
  },
  {
   "cell_type": "code",
   "execution_count": 55,
   "id": "0929a306",
   "metadata": {},
   "outputs": [],
   "source": [
    "sm_model = pipeline$PipelineModel(\n",
    "    name=\"modelname\", \n",
    "    role=role_arn, \n",
    "    sagemaker_session=session,\n",
    "    models=list(ll_multi_model))"
   ]
  },
  {
   "cell_type": "code",
   "execution_count": 56,
   "id": "a1bb14f9",
   "metadata": {},
   "outputs": [],
   "source": [
    "#! takes a few minutes...\n",
    "sm_model$deploy(initial_instance_count=1L, \n",
    "                instance_type='ml.m4.xlarge', \n",
    "                endpoint_name=\"endpointname\")"
   ]
  },
  {
   "cell_type": "code",
   "execution_count": 57,
   "id": "b677ff43",
   "metadata": {},
   "outputs": [
    {
     "data": {
      "text/plain": [
       "<sagemaker.pipeline.PipelineModel>"
      ]
     },
     "metadata": {},
     "output_type": "display_data"
    }
   ],
   "source": [
    "# sm_model"
   ]
  },
  {
   "cell_type": "code",
   "execution_count": 58,
   "id": "1b3b9830",
   "metadata": {},
   "outputs": [],
   "source": [
    "#Create Predictor\n",
    "predictor <- import('sagemaker.predictor')"
   ]
  },
  {
   "cell_type": "code",
   "execution_count": 59,
   "id": "c33596da",
   "metadata": {},
   "outputs": [],
   "source": [
    "csv_serializer = sagemaker$serializers$CSVSerializer(content_type='text/csv')\n",
    "\n",
    "sm_predictor =  predictor$Predictor(\n",
    "    endpoint_name=\"endpointname\",\n",
    "    sagemaker_session=session,\n",
    "    serializer=csv_serializer)"
   ]
  },
  {
   "cell_type": "code",
   "execution_count": 60,
   "id": "e7f85739",
   "metadata": {},
   "outputs": [],
   "source": [
    "json <- reticulate::import(\"json\")"
   ]
  },
  {
   "cell_type": "code",
   "execution_count": 61,
   "id": "87e48291",
   "metadata": {},
   "outputs": [
    {
     "name": "stderr",
     "output_type": "stream",
     "text": [
      "\u001b[1mRows: \u001b[22m\u001b[34m1378\u001b[39m \u001b[1mColumns: \u001b[22m\u001b[34m4\u001b[39m\n",
      "\n",
      "\u001b[36m──\u001b[39m \u001b[1mColumn specification\u001b[22m \u001b[36m────────────────────────────────────────────────────────\u001b[39m\n",
      "\u001b[1mDelimiter:\u001b[22m \",\"\n",
      "\u001b[32mdbl\u001b[39m (4): X1, X2, X3, X4\n",
      "\n",
      "\n",
      "\u001b[36mℹ\u001b[39m Use \u001b[30m\u001b[47m\u001b[30m\u001b[47m`spec()`\u001b[47m\u001b[30m\u001b[49m\u001b[39m to retrieve the full column specification for this data.\n",
      "\u001b[36mℹ\u001b[39m Specify the column types or set \u001b[30m\u001b[47m\u001b[30m\u001b[47m`show_col_types = FALSE`\u001b[47m\u001b[30m\u001b[49m\u001b[39m to quiet this message.\n",
      "\n",
      "extract_numeric() is deprecated: please use readr::parse_number() instead\n",
      "\n",
      "\u001b[1mRows: \u001b[22m\u001b[34m1378\u001b[39m \u001b[1mColumns: \u001b[22m\u001b[34m4\u001b[39m\n",
      "\n",
      "\u001b[36m──\u001b[39m \u001b[1mColumn specification\u001b[22m \u001b[36m────────────────────────────────────────────────────────\u001b[39m\n",
      "\u001b[1mDelimiter:\u001b[22m \",\"\n",
      "\u001b[32mdbl\u001b[39m (4): X1, X2, X3, X4\n",
      "\n",
      "\n",
      "\u001b[36mℹ\u001b[39m Use \u001b[30m\u001b[47m\u001b[30m\u001b[47m`spec()`\u001b[47m\u001b[30m\u001b[49m\u001b[39m to retrieve the full column specification for this data.\n",
      "\u001b[36mℹ\u001b[39m Specify the column types or set \u001b[30m\u001b[47m\u001b[30m\u001b[47m`show_col_types = FALSE`\u001b[47m\u001b[30m\u001b[49m\u001b[39m to quiet this message.\n",
      "\n",
      "extract_numeric() is deprecated: please use readr::parse_number() instead\n",
      "\n",
      "\u001b[1mRows: \u001b[22m\u001b[34m1325\u001b[39m \u001b[1mColumns: \u001b[22m\u001b[34m4\u001b[39m\n",
      "\n",
      "\u001b[36m──\u001b[39m \u001b[1mColumn specification\u001b[22m \u001b[36m────────────────────────────────────────────────────────\u001b[39m\n",
      "\u001b[1mDelimiter:\u001b[22m \",\"\n",
      "\u001b[32mdbl\u001b[39m (4): X1, X2, X3, X4\n",
      "\n",
      "\n",
      "\u001b[36mℹ\u001b[39m Use \u001b[30m\u001b[47m\u001b[30m\u001b[47m`spec()`\u001b[47m\u001b[30m\u001b[49m\u001b[39m to retrieve the full column specification for this data.\n",
      "\u001b[36mℹ\u001b[39m Specify the column types or set \u001b[30m\u001b[47m\u001b[30m\u001b[47m`show_col_types = FALSE`\u001b[47m\u001b[30m\u001b[49m\u001b[39m to quiet this message.\n",
      "\n",
      "extract_numeric() is deprecated: please use readr::parse_number() instead\n",
      "\n"
     ]
    }
   ],
   "source": [
    "predictions_ep = vector(\"list\", length=0)\n",
    "for (ID in test_ids) {\n",
    "    \n",
    "    test_plus <- read_csv(file = str_glue('data', ID, 'test', 'test_plus.csv', .sep='/'), col_names = NULL)\n",
    "    test_sample <- as.matrix(test_plus[-1]) # provide test data in the format acceptable\n",
    "    preds_ep_id <- sm_predictor$predict(test_sample, target_model=str_c(\"/\", ID, \"_model.tar.gz\"))\n",
    "    temp <- json$loads(preds_ep_id)\n",
    "    temp <- as_tibble(temp)\n",
    "    temp <- sapply(temp, extract_numeric)\n",
    "    preds_ep = cbind(temp, rep(ID, nrow(test_plus)), test_plus)\n",
    "    colnames(preds_ep) = c(\"predicted_NO2\", \"id\", \"NO2\", \"RAW\", \"baseline\", \"temperature\")\n",
    "    predictions_ep = rbind(predictions_ep, preds_ep)\n",
    "}"
   ]
  },
  {
   "cell_type": "code",
   "execution_count": 62,
   "id": "f59c27fe",
   "metadata": {},
   "outputs": [
    {
     "data": {
      "text/html": [
       "<table class=\"dataframe\">\n",
       "<caption>A data.frame: 6 × 6</caption>\n",
       "<thead>\n",
       "\t<tr><th></th><th scope=col>predicted_NO2</th><th scope=col>id</th><th scope=col>NO2</th><th scope=col>RAW</th><th scope=col>baseline</th><th scope=col>temperature</th></tr>\n",
       "\t<tr><th></th><th scope=col>&lt;dbl&gt;</th><th scope=col>&lt;dbl&gt;</th><th scope=col>&lt;dbl&gt;</th><th scope=col>&lt;dbl&gt;</th><th scope=col>&lt;dbl&gt;</th><th scope=col>&lt;dbl&gt;</th></tr>\n",
       "</thead>\n",
       "<tbody>\n",
       "\t<tr><th scope=row>1</th><td>21.04413</td><td>42022</td><td>20.91667</td><td>297.1858</td><td>294.7527</td><td>17.10584</td></tr>\n",
       "\t<tr><th scope=row>2</th><td>18.85107</td><td>42022</td><td>19.25000</td><td>296.6088</td><td>294.8363</td><td>16.60335</td></tr>\n",
       "\t<tr><th scope=row>3</th><td>16.28021</td><td>42022</td><td>16.95000</td><td>295.9173</td><td>294.9126</td><td>16.11310</td></tr>\n",
       "\t<tr><th scope=row>4</th><td>16.14099</td><td>42022</td><td>16.06667</td><td>295.9334</td><td>294.9767</td><td>15.67477</td></tr>\n",
       "\t<tr><th scope=row>5</th><td>16.43073</td><td>42022</td><td>16.39167</td><td>296.0547</td><td>295.0157</td><td>15.39307</td></tr>\n",
       "\t<tr><th scope=row>6</th><td>17.92908</td><td>42022</td><td>17.25000</td><td>296.4984</td><td>295.0182</td><td>15.37075</td></tr>\n",
       "</tbody>\n",
       "</table>\n"
      ],
      "text/latex": [
       "A data.frame: 6 × 6\n",
       "\\begin{tabular}{r|llllll}\n",
       "  & predicted\\_NO2 & id & NO2 & RAW & baseline & temperature\\\\\n",
       "  & <dbl> & <dbl> & <dbl> & <dbl> & <dbl> & <dbl>\\\\\n",
       "\\hline\n",
       "\t1 & 21.04413 & 42022 & 20.91667 & 297.1858 & 294.7527 & 17.10584\\\\\n",
       "\t2 & 18.85107 & 42022 & 19.25000 & 296.6088 & 294.8363 & 16.60335\\\\\n",
       "\t3 & 16.28021 & 42022 & 16.95000 & 295.9173 & 294.9126 & 16.11310\\\\\n",
       "\t4 & 16.14099 & 42022 & 16.06667 & 295.9334 & 294.9767 & 15.67477\\\\\n",
       "\t5 & 16.43073 & 42022 & 16.39167 & 296.0547 & 295.0157 & 15.39307\\\\\n",
       "\t6 & 17.92908 & 42022 & 17.25000 & 296.4984 & 295.0182 & 15.37075\\\\\n",
       "\\end{tabular}\n"
      ],
      "text/markdown": [
       "\n",
       "A data.frame: 6 × 6\n",
       "\n",
       "| <!--/--> | predicted_NO2 &lt;dbl&gt; | id &lt;dbl&gt; | NO2 &lt;dbl&gt; | RAW &lt;dbl&gt; | baseline &lt;dbl&gt; | temperature &lt;dbl&gt; |\n",
       "|---|---|---|---|---|---|---|\n",
       "| 1 | 21.04413 | 42022 | 20.91667 | 297.1858 | 294.7527 | 17.10584 |\n",
       "| 2 | 18.85107 | 42022 | 19.25000 | 296.6088 | 294.8363 | 16.60335 |\n",
       "| 3 | 16.28021 | 42022 | 16.95000 | 295.9173 | 294.9126 | 16.11310 |\n",
       "| 4 | 16.14099 | 42022 | 16.06667 | 295.9334 | 294.9767 | 15.67477 |\n",
       "| 5 | 16.43073 | 42022 | 16.39167 | 296.0547 | 295.0157 | 15.39307 |\n",
       "| 6 | 17.92908 | 42022 | 17.25000 | 296.4984 | 295.0182 | 15.37075 |\n",
       "\n"
      ],
      "text/plain": [
       "  predicted_NO2 id    NO2      RAW      baseline temperature\n",
       "1 21.04413      42022 20.91667 297.1858 294.7527 17.10584   \n",
       "2 18.85107      42022 19.25000 296.6088 294.8363 16.60335   \n",
       "3 16.28021      42022 16.95000 295.9173 294.9126 16.11310   \n",
       "4 16.14099      42022 16.06667 295.9334 294.9767 15.67477   \n",
       "5 16.43073      42022 16.39167 296.0547 295.0157 15.39307   \n",
       "6 17.92908      42022 17.25000 296.4984 295.0182 15.37075   "
      ]
     },
     "metadata": {},
     "output_type": "display_data"
    }
   ],
   "source": [
    "head(predictions_ep)"
   ]
  },
  {
   "cell_type": "code",
   "execution_count": 63,
   "id": "df545d73",
   "metadata": {},
   "outputs": [
    {
     "data": {
      "text/html": [
       "<table class=\"dataframe\">\n",
       "<caption>A grouped_df: 3 × 2</caption>\n",
       "<thead>\n",
       "\t<tr><th scope=col>id</th><th scope=col>rmse..x.</th></tr>\n",
       "\t<tr><th scope=col>&lt;dbl&gt;</th><th scope=col>&lt;dbl&gt;</th></tr>\n",
       "</thead>\n",
       "<tbody>\n",
       "\t<tr><td>41414</td><td>2.87</td></tr>\n",
       "\t<tr><td>41816</td><td>3.31</td></tr>\n",
       "\t<tr><td>42022</td><td>2.55</td></tr>\n",
       "</tbody>\n",
       "</table>\n"
      ],
      "text/latex": [
       "A grouped\\_df: 3 × 2\n",
       "\\begin{tabular}{ll}\n",
       " id & rmse..x.\\\\\n",
       " <dbl> & <dbl>\\\\\n",
       "\\hline\n",
       "\t 41414 & 2.87\\\\\n",
       "\t 41816 & 3.31\\\\\n",
       "\t 42022 & 2.55\\\\\n",
       "\\end{tabular}\n"
      ],
      "text/markdown": [
       "\n",
       "A grouped_df: 3 × 2\n",
       "\n",
       "| id &lt;dbl&gt; | rmse..x. &lt;dbl&gt; |\n",
       "|---|---|\n",
       "| 41414 | 2.87 |\n",
       "| 41816 | 3.31 |\n",
       "| 42022 | 2.55 |\n",
       "\n"
      ],
      "text/plain": [
       "  id    rmse..x.\n",
       "1 41414 2.87    \n",
       "2 41816 3.31    \n",
       "3 42022 2.55    "
      ]
     },
     "metadata": {},
     "output_type": "display_data"
    }
   ],
   "source": [
    "# calculate RMSE\n",
    "test_rmse_ep <- predictions_ep %>% \n",
    "  group_by(id) %>% \n",
    "  group_modify(~data.frame(rmse(.x)))\n",
    "# cat('RMSE for Batch Transform: ', round(gas_rmse, digits=2))\n",
    "test_rmse_ep"
   ]
  },
  {
   "cell_type": "code",
   "execution_count": 107,
   "id": "8113dbd5",
   "metadata": {},
   "outputs": [
    {
     "data": {
      "image/png": "[encoded data removed]",
      "text/plain": [
       "plot without title"
      ]
     },
     "metadata": {
      "image/png": {
       "height": 420,
       "width": 420
      }
     },
     "output_type": "display_data"
    }
   ],
   "source": [
    "predictions_ep %>% \n",
    "    ggplot(aes(x=predicted_NO2, y=NO2)) +\n",
    "    geom_point(alpha=0.2) +\n",
    "    geom_abline(slope=1, intercept=0, col=\"red\") +\n",
    "    facet_wrap(~id) +\n",
    "    coord_fixed()"
   ]
  },
  {
   "cell_type": "markdown",
   "id": "2c926d4a",
   "metadata": {},
   "source": [
    "# OPTIONAL"
   ]
  },
  {
   "cell_type": "code",
   "execution_count": 347,
   "id": "4b21dd70",
   "metadata": {},
   "outputs": [],
   "source": [
    "# When you’re done with the model, delete the endpoint to avoid incurring deployment costs:\n",
    "sm_predictor$delete_endpoint()"
   ]
  },
  {
   "cell_type": "markdown",
   "id": "e92ea5fe",
   "metadata": {},
   "source": [
    "# XGBoost\n",
    "## beware that decision trees cannot extrapolate!!!"
   ]
  },
  {
   "cell_type": "code",
   "execution_count": 96,
   "id": "626026cb",
   "metadata": {},
   "outputs": [
    {
     "name": "stdout",
     "output_type": "stream",
     "text": [
      "XGBoost Container Image URL:  644912444149.dkr.ecr.eu-west-2.amazonaws.com/xgboost:latest"
     ]
    }
   ],
   "source": [
    "# this line automatically looks for the XGBoost image URI and builds an XGBoost container.\n",
    "# specify the repo_version depending on your preference.\n",
    "xgb_container <- sagemaker$image_uris$retrieve(framework='xgboost',\n",
    "                                          region=session$boto_region_name, \n",
    "                                          version='latest')\n",
    "cat('XGBoost Container Image URL: ', xgb_container)"
   ]
  },
  {
   "cell_type": "code",
   "execution_count": 97,
   "id": "824b811d",
   "metadata": {},
   "outputs": [],
   "source": [
    "xgb_training_jobs <- vector(\"character\")\n",
    "for (ID in train_ids) {\n",
    "    # define the Amazon S3 input types for the Amazon SageMaker algorithm:\n",
    "    s3_input = str_glue('s3:/', bucket, 'r_demo4', \"data\", ID, \"train\", \"train.csv\", .sep = \"/\")\n",
    "    s3_train_input <- sagemaker$inputs$TrainingInput(s3_data=s3_input,\n",
    "                                                content_type='text/csv')\n",
    "    \n",
    "    # Model artifacts and batch output\n",
    "    s3_output <- str_glue('s3:/', bucket, 'r_demo4','xgboost_output', ID, .sep = '/')\n",
    "    \n",
    "    # Estimator: define an Amazon SageMaker Estimator, which can train any supplied algorithm that has been containerized with Docker.\n",
    "    # Estimator\n",
    "    xgb_estimator <- sagemaker$estimator$Estimator(image_uri = xgb_container,\n",
    "                                               role = role_arn,\n",
    "                                               train_instance_count = 1L,\n",
    "                                               train_instance_type = 'ml.m5.4xlarge',\n",
    "                                               train_volume_size = 5L, #5GB\n",
    "                                               train_max_run = 3600L,\n",
    "                                               input_mode = 'File',\n",
    "                                               output_path = s3_output,\n",
    "                                               output_kms_key = NULL,\n",
    "                                               base_job_name = NULL,\n",
    "                                               sagemaker_session = session)\n",
    "    \n",
    "#     # specify the linear-learner hyperparameters for the estimator\n",
    "#     estimator$set_hyperparameters(predictor_type=\"regressor\",\n",
    "#                              mini_batch_size=100L)\n",
    "    # Set Hyperparameters\n",
    "    xgb_estimator$set_hyperparameters(eval_metric='rmse',\n",
    "                                  objective='reg:linear',\n",
    "                                  num_round=100L,\n",
    "                                  rate_drop=0.3,\n",
    "                                  tweedie_variance_power=1.4)\n",
    "    \n",
    "    # create a training (aka, fitting) job name\n",
    "    job_name <- str_glue('sagemaker-xgboost', ID, format(Sys.time(), '%H-%M-%S'), .sep='-')\n",
    "    xgb_training_jobs <- c(xgb_training_jobs, job_name)\n",
    "\n",
    "    # Define the data channels for train (optional: and validation) datasets\n",
    "    input_data <- list('train'=s3_train_input)\n",
    "    \n",
    "    #! takes a few minutes...you can set wait=FALSE to bypass this but...\n",
    "    # BEWARE that you may exceed AWS limit if there are too many instances running -> set wait=TRUE to avoid issues\n",
    "    # train the estimator (aka, fit!)\n",
    "    xgb_estimator$fit(inputs=input_data, job_name=job_name, wait=TRUE)\n",
    "    \n",
    "    # create a model based on this training job\n",
    "    session$create_model_from_job(training_job_name=job_name)\n",
    "}"
   ]
  },
  {
   "cell_type": "markdown",
   "id": "08586ee1",
   "metadata": {},
   "source": [
    "## Batch transform"
   ]
  },
  {
   "cell_type": "code",
   "execution_count": 98,
   "id": "7f954aec",
   "metadata": {},
   "outputs": [],
   "source": [
    "for (ID in test_ids) {\n",
    "    # define s3 path for test data\n",
    "    s3_test_url <- str_glue('s3:/', bucket, 'r_demo4', 'data', ID, 'test', 'test.csv', .sep='/')\n",
    "    \n",
    "    # Model artifacts and batch output\n",
    "    s3_output <- str_glue('s3:/', bucket, 'r_demo4','xgboost_output', ID, .sep = '/')\n",
    "    \n",
    "    # define a transformer\n",
    "    xgb_transformer <- xgb_estimator$transformer(instance_count=1L,\n",
    "                                            instance_type='ml.m5.4xlarge',\n",
    "                                             model_name=grep(pattern = ID, xgb_training_jobs, value = TRUE), # specify model name to use\n",
    "    #                                         strategy=\"MultiRecord\",\n",
    "                                            output_path=s3_output)\n",
    "    \n",
    "    #! takes a few minutes...you can set wait=FALSE to bypass this but...\n",
    "    # BEWARE that you may exceed AWS limit if there are too many instances running -> set wait=TRUE to avoid issues\n",
    "    # do the batch transform\n",
    "    xgb_transformer$transform(s3_test_url,\n",
    "                              content_type=\"text/csv\",\n",
    "        #                       split_type=\"Line\",\n",
    "                              wait=TRUE)\n",
    "    \n",
    "    # Download the files from S3 using S3Downloader to local SageMaker instance 'batch_output' folder\n",
    "#     s3_input <- str_glue('s3:/', bucket, 'r_demo4','data', ID, \"test\", .sep = '/')\n",
    "#     s3_output <- str_glue('s3:/', bucket, 'r_demo4','output', ID, .sep = '/')\n",
    "#     sagemaker$s3$S3Downloader$download(s3_test_url,\n",
    "#                           str_glue(\"batch_input\", ID, .sep=\"/\"))\n",
    "     sagemaker$s3$S3Downloader$download(str_glue(s3_output,\"test.csv.out\",.sep = '/'),\n",
    "                          str_glue(\"xgboost_batch_output\", ID, .sep=\"/\"))\n",
    "}"
   ]
  },
  {
   "cell_type": "code",
   "execution_count": 99,
   "id": "712aefe2",
   "metadata": {},
   "outputs": [
    {
     "name": "stderr",
     "output_type": "stream",
     "text": [
      "\u001b[1mRows: \u001b[22m\u001b[34m1378\u001b[39m \u001b[1mColumns: \u001b[22m\u001b[34m4\u001b[39m\n",
      "\n",
      "\u001b[36m──\u001b[39m \u001b[1mColumn specification\u001b[22m \u001b[36m────────────────────────────────────────────────────────\u001b[39m\n",
      "\u001b[1mDelimiter:\u001b[22m \",\"\n",
      "\u001b[32mdbl\u001b[39m (4): NO2, RAW, baseline, temperature\n",
      "\n",
      "\n",
      "\u001b[36mℹ\u001b[39m Use \u001b[30m\u001b[47m\u001b[30m\u001b[47m`spec()`\u001b[47m\u001b[30m\u001b[49m\u001b[39m to retrieve the full column specification for this data.\n",
      "\u001b[36mℹ\u001b[39m Specify the column types or set \u001b[30m\u001b[47m\u001b[30m\u001b[47m`show_col_types = FALSE`\u001b[47m\u001b[30m\u001b[49m\u001b[39m to quiet this message.\n",
      "\n",
      "\u001b[1mRows: \u001b[22m\u001b[34m1378\u001b[39m \u001b[1mColumns: \u001b[22m\u001b[34m1\u001b[39m\n",
      "\n",
      "\u001b[36m──\u001b[39m \u001b[1mColumn specification\u001b[22m \u001b[36m────────────────────────────────────────────────────────\u001b[39m\n",
      "\u001b[1mDelimiter:\u001b[22m \",\"\n",
      "\u001b[32mdbl\u001b[39m (1): predicted_NO2\n",
      "\n",
      "\n",
      "\u001b[36mℹ\u001b[39m Use \u001b[30m\u001b[47m\u001b[30m\u001b[47m`spec()`\u001b[47m\u001b[30m\u001b[49m\u001b[39m to retrieve the full column specification for this data.\n",
      "\u001b[36mℹ\u001b[39m Specify the column types or set \u001b[30m\u001b[47m\u001b[30m\u001b[47m`show_col_types = FALSE`\u001b[47m\u001b[30m\u001b[49m\u001b[39m to quiet this message.\n",
      "\n",
      "extract_numeric() is deprecated: please use readr::parse_number() instead\n",
      "\n",
      "\u001b[1mRows: \u001b[22m\u001b[34m1378\u001b[39m \u001b[1mColumns: \u001b[22m\u001b[34m4\u001b[39m\n",
      "\n",
      "\u001b[36m──\u001b[39m \u001b[1mColumn specification\u001b[22m \u001b[36m────────────────────────────────────────────────────────\u001b[39m\n",
      "\u001b[1mDelimiter:\u001b[22m \",\"\n",
      "\u001b[32mdbl\u001b[39m (4): NO2, RAW, baseline, temperature\n",
      "\n",
      "\n",
      "\u001b[36mℹ\u001b[39m Use \u001b[30m\u001b[47m\u001b[30m\u001b[47m`spec()`\u001b[47m\u001b[30m\u001b[49m\u001b[39m to retrieve the full column specification for this data.\n",
      "\u001b[36mℹ\u001b[39m Specify the column types or set \u001b[30m\u001b[47m\u001b[30m\u001b[47m`show_col_types = FALSE`\u001b[47m\u001b[30m\u001b[49m\u001b[39m to quiet this message.\n",
      "\n",
      "\u001b[1mRows: \u001b[22m\u001b[34m1378\u001b[39m \u001b[1mColumns: \u001b[22m\u001b[34m1\u001b[39m\n",
      "\n",
      "\u001b[36m──\u001b[39m \u001b[1mColumn specification\u001b[22m \u001b[36m────────────────────────────────────────────────────────\u001b[39m\n",
      "\u001b[1mDelimiter:\u001b[22m \",\"\n",
      "\u001b[32mdbl\u001b[39m (1): predicted_NO2\n",
      "\n",
      "\n",
      "\u001b[36mℹ\u001b[39m Use \u001b[30m\u001b[47m\u001b[30m\u001b[47m`spec()`\u001b[47m\u001b[30m\u001b[49m\u001b[39m to retrieve the full column specification for this data.\n",
      "\u001b[36mℹ\u001b[39m Specify the column types or set \u001b[30m\u001b[47m\u001b[30m\u001b[47m`show_col_types = FALSE`\u001b[47m\u001b[30m\u001b[49m\u001b[39m to quiet this message.\n",
      "\n",
      "extract_numeric() is deprecated: please use readr::parse_number() instead\n",
      "\n",
      "\u001b[1mRows: \u001b[22m\u001b[34m1325\u001b[39m \u001b[1mColumns: \u001b[22m\u001b[34m4\u001b[39m\n",
      "\n",
      "\u001b[36m──\u001b[39m \u001b[1mColumn specification\u001b[22m \u001b[36m────────────────────────────────────────────────────────\u001b[39m\n",
      "\u001b[1mDelimiter:\u001b[22m \",\"\n",
      "\u001b[32mdbl\u001b[39m (4): NO2, RAW, baseline, temperature\n",
      "\n",
      "\n",
      "\u001b[36mℹ\u001b[39m Use \u001b[30m\u001b[47m\u001b[30m\u001b[47m`spec()`\u001b[47m\u001b[30m\u001b[49m\u001b[39m to retrieve the full column specification for this data.\n",
      "\u001b[36mℹ\u001b[39m Specify the column types or set \u001b[30m\u001b[47m\u001b[30m\u001b[47m`show_col_types = FALSE`\u001b[47m\u001b[30m\u001b[49m\u001b[39m to quiet this message.\n",
      "\n",
      "\u001b[1mRows: \u001b[22m\u001b[34m1325\u001b[39m \u001b[1mColumns: \u001b[22m\u001b[34m1\u001b[39m\n",
      "\n",
      "\u001b[36m──\u001b[39m \u001b[1mColumn specification\u001b[22m \u001b[36m────────────────────────────────────────────────────────\u001b[39m\n",
      "\u001b[1mDelimiter:\u001b[22m \",\"\n",
      "\u001b[32mdbl\u001b[39m (1): predicted_NO2\n",
      "\n",
      "\n",
      "\u001b[36mℹ\u001b[39m Use \u001b[30m\u001b[47m\u001b[30m\u001b[47m`spec()`\u001b[47m\u001b[30m\u001b[49m\u001b[39m to retrieve the full column specification for this data.\n",
      "\u001b[36mℹ\u001b[39m Specify the column types or set \u001b[30m\u001b[47m\u001b[30m\u001b[47m`show_col_types = FALSE`\u001b[47m\u001b[30m\u001b[49m\u001b[39m to quiet this message.\n",
      "\n",
      "extract_numeric() is deprecated: please use readr::parse_number() instead\n",
      "\n"
     ]
    }
   ],
   "source": [
    "xgb_predictions = vector(\"list\")\n",
    "for (ID in test_ids) {    \n",
    "    test_plus <- read_csv(file=str_glue(\"data\", ID, \"test\", \"test_plus.csv\", .sep=\"/\"),\n",
    "                     col_names=c(\"NO2\", \"RAW\", \"baseline\", \"temperature\"))\n",
    "        \n",
    "    xgb_prediction_id <- read_csv(file=str_glue(\"xgboost_batch_output\", ID, \"test.csv.out\", .sep=\"/\"),\n",
    "                       col_names='predicted_NO2')\n",
    "    xgb_prediction_id$predicted_NO2 = extract_numeric(xgb_prediction_id$predicted_NO2)\n",
    "    xgb_test_prediction <- cbind(id=rep(ID, times = length(xgb_prediction_id)), xgb_prediction_id, test_plus)\n",
    "    xgb_predictions <- rbind(xgb_predictions, xgb_test_prediction)\n",
    "}"
   ]
  },
  {
   "cell_type": "code",
   "execution_count": 100,
   "id": "16499918",
   "metadata": {
    "scrolled": true
   },
   "outputs": [
    {
     "data": {
      "text/html": [
       "<table class=\"dataframe\">\n",
       "<caption>A data.frame: 6 × 6</caption>\n",
       "<thead>\n",
       "\t<tr><th></th><th scope=col>id</th><th scope=col>predicted_NO2</th><th scope=col>NO2</th><th scope=col>RAW</th><th scope=col>baseline</th><th scope=col>temperature</th></tr>\n",
       "\t<tr><th></th><th scope=col>&lt;dbl&gt;</th><th scope=col>&lt;dbl&gt;</th><th scope=col>&lt;dbl&gt;</th><th scope=col>&lt;dbl&gt;</th><th scope=col>&lt;dbl&gt;</th><th scope=col>&lt;dbl&gt;</th></tr>\n",
       "</thead>\n",
       "<tbody>\n",
       "\t<tr><th scope=row>1</th><td>42022</td><td>20.64835</td><td>20.91667</td><td>297.1858</td><td>294.7527</td><td>17.10584</td></tr>\n",
       "\t<tr><th scope=row>2</th><td>42022</td><td>18.85980</td><td>19.25000</td><td>296.6088</td><td>294.8363</td><td>16.60335</td></tr>\n",
       "\t<tr><th scope=row>3</th><td>42022</td><td>14.85628</td><td>16.95000</td><td>295.9173</td><td>294.9126</td><td>16.11310</td></tr>\n",
       "\t<tr><th scope=row>4</th><td>42022</td><td>15.30415</td><td>16.06667</td><td>295.9334</td><td>294.9767</td><td>15.67477</td></tr>\n",
       "\t<tr><th scope=row>5</th><td>42022</td><td>16.07612</td><td>16.39167</td><td>296.0547</td><td>295.0157</td><td>15.39307</td></tr>\n",
       "\t<tr><th scope=row>6</th><td>42022</td><td>17.73141</td><td>17.25000</td><td>296.4984</td><td>295.0182</td><td>15.37075</td></tr>\n",
       "</tbody>\n",
       "</table>\n"
      ],
      "text/latex": [
       "A data.frame: 6 × 6\n",
       "\\begin{tabular}{r|llllll}\n",
       "  & id & predicted\\_NO2 & NO2 & RAW & baseline & temperature\\\\\n",
       "  & <dbl> & <dbl> & <dbl> & <dbl> & <dbl> & <dbl>\\\\\n",
       "\\hline\n",
       "\t1 & 42022 & 20.64835 & 20.91667 & 297.1858 & 294.7527 & 17.10584\\\\\n",
       "\t2 & 42022 & 18.85980 & 19.25000 & 296.6088 & 294.8363 & 16.60335\\\\\n",
       "\t3 & 42022 & 14.85628 & 16.95000 & 295.9173 & 294.9126 & 16.11310\\\\\n",
       "\t4 & 42022 & 15.30415 & 16.06667 & 295.9334 & 294.9767 & 15.67477\\\\\n",
       "\t5 & 42022 & 16.07612 & 16.39167 & 296.0547 & 295.0157 & 15.39307\\\\\n",
       "\t6 & 42022 & 17.73141 & 17.25000 & 296.4984 & 295.0182 & 15.37075\\\\\n",
       "\\end{tabular}\n"
      ],
      "text/markdown": [
       "\n",
       "A data.frame: 6 × 6\n",
       "\n",
       "| <!--/--> | id &lt;dbl&gt; | predicted_NO2 &lt;dbl&gt; | NO2 &lt;dbl&gt; | RAW &lt;dbl&gt; | baseline &lt;dbl&gt; | temperature &lt;dbl&gt; |\n",
       "|---|---|---|---|---|---|---|\n",
       "| 1 | 42022 | 20.64835 | 20.91667 | 297.1858 | 294.7527 | 17.10584 |\n",
       "| 2 | 42022 | 18.85980 | 19.25000 | 296.6088 | 294.8363 | 16.60335 |\n",
       "| 3 | 42022 | 14.85628 | 16.95000 | 295.9173 | 294.9126 | 16.11310 |\n",
       "| 4 | 42022 | 15.30415 | 16.06667 | 295.9334 | 294.9767 | 15.67477 |\n",
       "| 5 | 42022 | 16.07612 | 16.39167 | 296.0547 | 295.0157 | 15.39307 |\n",
       "| 6 | 42022 | 17.73141 | 17.25000 | 296.4984 | 295.0182 | 15.37075 |\n",
       "\n"
      ],
      "text/plain": [
       "  id    predicted_NO2 NO2      RAW      baseline temperature\n",
       "1 42022 20.64835      20.91667 297.1858 294.7527 17.10584   \n",
       "2 42022 18.85980      19.25000 296.6088 294.8363 16.60335   \n",
       "3 42022 14.85628      16.95000 295.9173 294.9126 16.11310   \n",
       "4 42022 15.30415      16.06667 295.9334 294.9767 15.67477   \n",
       "5 42022 16.07612      16.39167 296.0547 295.0157 15.39307   \n",
       "6 42022 17.73141      17.25000 296.4984 295.0182 15.37075   "
      ]
     },
     "metadata": {},
     "output_type": "display_data"
    }
   ],
   "source": [
    "head(xgb_predictions)"
   ]
  },
  {
   "cell_type": "code",
   "execution_count": 43,
   "id": "71bdb5d0",
   "metadata": {},
   "outputs": [],
   "source": [
    "# # define a function to calculate RMSE\n",
    "# rmse <- function(df){\n",
    "#     temp <- sqrt(mean((df$NO2-df$predicted_NO2)^2))\n",
    "#     temp <- round(temp, digits = 2)\n",
    "#     return(temp)\n",
    "# }"
   ]
  },
  {
   "cell_type": "code",
   "execution_count": 101,
   "id": "1ddaf50c",
   "metadata": {},
   "outputs": [],
   "source": [
    "# calculate RMSE\n",
    "xgb_test_rmse <- xgb_predictions %>% \n",
    "  group_by(id) %>% \n",
    "  group_modify(~data.frame(rmse(.x)))\n",
    "# cat('RMSE for Batch Transform: ', round(gas_rmse, digits=2))"
   ]
  },
  {
   "cell_type": "code",
   "execution_count": 102,
   "id": "7241ce18",
   "metadata": {},
   "outputs": [
    {
     "data": {
      "text/html": [
       "<table class=\"dataframe\">\n",
       "<caption>A grouped_df: 3 × 2</caption>\n",
       "<thead>\n",
       "\t<tr><th scope=col>id</th><th scope=col>rmse..x.</th></tr>\n",
       "\t<tr><th scope=col>&lt;dbl&gt;</th><th scope=col>&lt;dbl&gt;</th></tr>\n",
       "</thead>\n",
       "<tbody>\n",
       "\t<tr><td>41414</td><td>2.85</td></tr>\n",
       "\t<tr><td>41816</td><td>2.75</td></tr>\n",
       "\t<tr><td>42022</td><td>3.02</td></tr>\n",
       "</tbody>\n",
       "</table>\n"
      ],
      "text/latex": [
       "A grouped\\_df: 3 × 2\n",
       "\\begin{tabular}{ll}\n",
       " id & rmse..x.\\\\\n",
       " <dbl> & <dbl>\\\\\n",
       "\\hline\n",
       "\t 41414 & 2.85\\\\\n",
       "\t 41816 & 2.75\\\\\n",
       "\t 42022 & 3.02\\\\\n",
       "\\end{tabular}\n"
      ],
      "text/markdown": [
       "\n",
       "A grouped_df: 3 × 2\n",
       "\n",
       "| id &lt;dbl&gt; | rmse..x. &lt;dbl&gt; |\n",
       "|---|---|\n",
       "| 41414 | 2.85 |\n",
       "| 41816 | 2.75 |\n",
       "| 42022 | 3.02 |\n",
       "\n"
      ],
      "text/plain": [
       "  id    rmse..x.\n",
       "1 41414 2.85    \n",
       "2 41816 2.75    \n",
       "3 42022 3.02    "
      ]
     },
     "metadata": {},
     "output_type": "display_data"
    }
   ],
   "source": [
    "xgb_test_rmse"
   ]
  },
  {
   "cell_type": "code",
   "execution_count": 105,
   "id": "0dbc8439",
   "metadata": {},
   "outputs": [
    {
     "data": {
      "image/png": "[encoded data removed]",
      "text/plain": [
       "plot without title"
      ]
     },
     "metadata": {
      "image/png": {
       "height": 420,
       "width": 420
      }
     },
     "output_type": "display_data"
    }
   ],
   "source": [
    "xgb_predictions %>% \n",
    "    ggplot(aes(x=predicted_NO2, y=NO2)) +\n",
    "    geom_point(alpha=0.2) +\n",
    "    geom_abline(slope=1, intercept=0, col=\"red\") +\n",
    "    facet_wrap(~id) +\n",
    "    coord_fixed()\n",
    "#     theme(aspect.ratio=1)"
   ]
  },
  {
   "cell_type": "code",
   "execution_count": null,
   "id": "ef4eb7b1",
   "metadata": {},
   "outputs": [],
   "source": []
  }
 ],
 "metadata": {
  "kernelspec": {
   "display_name": "R",
   "language": "R",
   "name": "ir"
  },
  "language_info": {
   "codemirror_mode": "r",
   "file_extension": ".r",
   "mimetype": "text/x-r-source",
   "name": "R",
   "pygments_lexer": "r",
   "version": "4.1.1"
  }
 },
 "nbformat": 4,
 "nbformat_minor": 5
}
