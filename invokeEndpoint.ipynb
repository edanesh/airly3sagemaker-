{
 "cells": [
  {
   "cell_type": "code",
   "execution_count": 1,
   "id": "fdb559fb",
   "metadata": {},
   "outputs": [
    {
     "name": "stderr",
     "output_type": "stream",
     "text": [
      "Warning message:\n",
      "“Your system is mis-configured: ‘/etc/localtime’ is not a symlink”\n",
      "Warning message:\n",
      "“It is strongly recommended to set envionment variable TZ to ‘Etc/UCT’ (or equivalent)”\n",
      "── \u001b[1mAttaching packages\u001b[22m ─────────────────────────────────────── tidyverse 1.3.1 ──\n",
      "\n",
      "\u001b[32m✔\u001b[39m \u001b[34mggplot2\u001b[39m 3.3.5     \u001b[32m✔\u001b[39m \u001b[34mpurrr  \u001b[39m 0.3.4\n",
      "\u001b[32m✔\u001b[39m \u001b[34mtibble \u001b[39m 3.1.6     \u001b[32m✔\u001b[39m \u001b[34mdplyr  \u001b[39m 1.0.7\n",
      "\u001b[32m✔\u001b[39m \u001b[34mtidyr  \u001b[39m 1.1.4     \u001b[32m✔\u001b[39m \u001b[34mstringr\u001b[39m 1.4.0\n",
      "\u001b[32m✔\u001b[39m \u001b[34mreadr  \u001b[39m 2.1.0     \u001b[32m✔\u001b[39m \u001b[34mforcats\u001b[39m 0.5.1\n",
      "\n",
      "── \u001b[1mConflicts\u001b[22m ────────────────────────────────────────── tidyverse_conflicts() ──\n",
      "\u001b[31m✖\u001b[39m \u001b[34mdplyr\u001b[39m::\u001b[32mfilter()\u001b[39m masks \u001b[34mstats\u001b[39m::filter()\n",
      "\u001b[31m✖\u001b[39m \u001b[34mdplyr\u001b[39m::\u001b[32mlag()\u001b[39m    masks \u001b[34mstats\u001b[39m::lag()\n",
      "\n"
     ]
    }
   ],
   "source": [
    "library(reticulate)\n",
    "library(tidyverse)"
   ]
  },
  {
   "cell_type": "code",
   "execution_count": 2,
   "id": "3698cd4e",
   "metadata": {
    "scrolled": true
   },
   "outputs": [],
   "source": [
    "boto3_r <- import('boto3')\n",
    "client = boto3_r$client('sagemaker-runtime')\n",
    "\n",
    "sagemaker  <- import('sagemaker')\n",
    "csv_serializer = sagemaker$serializers$CSVSerializer(content_type='text/csv')\n",
    "\n",
    "json <- import(\"json\")"
   ]
  },
  {
   "cell_type": "code",
   "execution_count": 3,
   "id": "00b812da",
   "metadata": {},
   "outputs": [
    {
     "name": "stderr",
     "output_type": "stream",
     "text": [
      "\u001b[1mRows: \u001b[22m\u001b[34m1325\u001b[39m \u001b[1mColumns: \u001b[22m\u001b[34m4\u001b[39m\n",
      "\n",
      "\u001b[36m──\u001b[39m \u001b[1mColumn specification\u001b[22m \u001b[36m────────────────────────────────────────────────────────\u001b[39m\n",
      "\u001b[1mDelimiter:\u001b[22m \",\"\n",
      "\u001b[32mdbl\u001b[39m (4): X1, X2, X3, X4\n",
      "\n",
      "\n",
      "\u001b[36mℹ\u001b[39m Use \u001b[30m\u001b[47m\u001b[30m\u001b[47m`spec()`\u001b[47m\u001b[30m\u001b[49m\u001b[39m to retrieve the full column specification for this data.\n",
      "\u001b[36mℹ\u001b[39m Specify the column types or set \u001b[30m\u001b[47m\u001b[30m\u001b[47m`show_col_types = FALSE`\u001b[47m\u001b[30m\u001b[49m\u001b[39m to quiet this message.\n",
      "\n"
     ]
    },
    {
     "data": {
      "text/html": [
       "<table class=\"dataframe\">\n",
       "<caption>A matrix: 6 × 3 of type dbl</caption>\n",
       "<thead>\n",
       "\t<tr><th scope=col>X2</th><th scope=col>X3</th><th scope=col>X4</th></tr>\n",
       "</thead>\n",
       "<tbody>\n",
       "\t<tr><td>302.7359</td><td>300.3213</td><td>17.27643</td></tr>\n",
       "\t<tr><td>302.0654</td><td>300.4139</td><td>16.79956</td></tr>\n",
       "\t<tr><td>301.4309</td><td>300.5081</td><td>16.27917</td></tr>\n",
       "\t<tr><td>301.4774</td><td>300.5800</td><td>15.85849</td></tr>\n",
       "\t<tr><td>301.5676</td><td>300.6251</td><td>15.57870</td></tr>\n",
       "\t<tr><td>302.0559</td><td>300.6421</td><td>15.46696</td></tr>\n",
       "</tbody>\n",
       "</table>\n"
      ],
      "text/latex": [
       "A matrix: 6 × 3 of type dbl\n",
       "\\begin{tabular}{lll}\n",
       " X2 & X3 & X4\\\\\n",
       "\\hline\n",
       "\t 302.7359 & 300.3213 & 17.27643\\\\\n",
       "\t 302.0654 & 300.4139 & 16.79956\\\\\n",
       "\t 301.4309 & 300.5081 & 16.27917\\\\\n",
       "\t 301.4774 & 300.5800 & 15.85849\\\\\n",
       "\t 301.5676 & 300.6251 & 15.57870\\\\\n",
       "\t 302.0559 & 300.6421 & 15.46696\\\\\n",
       "\\end{tabular}\n"
      ],
      "text/markdown": [
       "\n",
       "A matrix: 6 × 3 of type dbl\n",
       "\n",
       "| X2 | X3 | X4 |\n",
       "|---|---|---|\n",
       "| 302.7359 | 300.3213 | 17.27643 |\n",
       "| 302.0654 | 300.4139 | 16.79956 |\n",
       "| 301.4309 | 300.5081 | 16.27917 |\n",
       "| 301.4774 | 300.5800 | 15.85849 |\n",
       "| 301.5676 | 300.6251 | 15.57870 |\n",
       "| 302.0559 | 300.6421 | 15.46696 |\n",
       "\n"
      ],
      "text/plain": [
       "     X2       X3       X4      \n",
       "[1,] 302.7359 300.3213 17.27643\n",
       "[2,] 302.0654 300.4139 16.79956\n",
       "[3,] 301.4309 300.5081 16.27917\n",
       "[4,] 301.4774 300.5800 15.85849\n",
       "[5,] 301.5676 300.6251 15.57870\n",
       "[6,] 302.0559 300.6421 15.46696"
      ]
     },
     "metadata": {},
     "output_type": "display_data"
    }
   ],
   "source": [
    "# example data\n",
    "ID=41414\n",
    "test_plus <- read_csv(file = str_glue('data', ID, 'test', 'test_plus.csv', .sep='/'), col_names = NULL, )\n",
    "test_sample <- as.matrix(test_plus[-1])\n",
    "head(test_sample)"
   ]
  },
  {
   "cell_type": "code",
   "execution_count": 4,
   "id": "2471462f",
   "metadata": {},
   "outputs": [
    {
     "name": "stderr",
     "output_type": "stream",
     "text": [
      "extract_numeric() is deprecated: please use readr::parse_number() instead\n",
      "\n"
     ]
    },
    {
     "data": {
      "text/html": [
       "20.9512939453125"
      ],
      "text/latex": [
       "20.9512939453125"
      ],
      "text/markdown": [
       "20.9512939453125"
      ],
      "text/plain": [
       "[1] 20.95129"
      ]
     },
     "metadata": {},
     "output_type": "display_data"
    }
   ],
   "source": [
    "# custom_attributes = \"...\"\n",
    "endpoint_name = \"endpointname\" # Your endpoint name.\n",
    "content_type = \"text/csv\" # The MIME type of the input data in the request body.\n",
    "# accept = \"...\" # The desired MIME type of the inference in the response.\n",
    "my_payload_as_csv = csv_serializer$serialize(test_sample[1,]) # Payload (aka, data) for inference.\n",
    "targetmodel=str_c(\"/\", ID, \"_model.tar.gz\") # name of target model (as saved in S3 multimodel)\n",
    "response = client$invoke_endpoint(\n",
    "    EndpointName=endpoint_name, \n",
    "#     CustomAttributes=custom_attributes, \n",
    "    ContentType=content_type,\n",
    "#     Accept=accept,\n",
    "    Body=my_payload_as_csv,\n",
    "    TargetModel=targetmodel\n",
    ")\n",
    "\n",
    "temp <- json$loads(response$Body$read()) # decoding response Body which comes in json format\n",
    "prediction=extract_numeric(temp) \n",
    "prediction"
   ]
  },
  {
   "cell_type": "code",
   "execution_count": 13,
   "id": "fce3391e",
   "metadata": {},
   "outputs": [
    {
     "data": {
      "text/html": [
       "20.9512939453125"
      ],
      "text/latex": [
       "20.9512939453125"
      ],
      "text/markdown": [
       "20.9512939453125"
      ],
      "text/plain": [
       "[1] 20.95129"
      ]
     },
     "metadata": {},
     "output_type": "display_data"
    }
   ],
   "source": [
    "# also possible to extract value by:\n",
    "as.numeric(unlist(temp))"
   ]
  }
 ],
 "metadata": {
  "kernelspec": {
   "display_name": "R",
   "language": "R",
   "name": "ir"
  },
  "language_info": {
   "codemirror_mode": "r",
   "file_extension": ".r",
   "mimetype": "text/x-r-source",
   "name": "R",
   "pygments_lexer": "r",
   "version": "4.1.1"
  }
 },
 "nbformat": 4,
 "nbformat_minor": 5
}
